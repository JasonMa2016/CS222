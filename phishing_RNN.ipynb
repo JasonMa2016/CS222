{
  "nbformat": 4,
  "nbformat_minor": 0,
  "metadata": {
    "colab": {
      "name": "phishing_RNN.ipynb",
      "version": "0.3.2",
      "provenance": [],
      "collapsed_sections": []
    },
    "kernelspec": {
      "name": "python3",
      "display_name": "Python 3"
    },
    "accelerator": "GPU"
  },
  "cells": [
    {
      "metadata": {
        "id": "t8Zku3fHZnnH",
        "colab_type": "code",
        "outputId": "607ba5c0-3935-4fd6-f938-f2528f267018",
        "colab": {
          "base_uri": "https://localhost:8080/",
          "height": 124
        }
      },
      "cell_type": "code",
      "source": [
        "from google.colab import drive\n",
        "drive.mount('/content/gdrive')"
      ],
      "execution_count": 0,
      "outputs": [
        {
          "output_type": "stream",
          "text": [
            "Go to this URL in a browser: https://accounts.google.com/o/oauth2/auth?client_id=947318989803-6bn6qk8qdgf4n4g3pfee6491hc0brc4i.apps.googleusercontent.com&redirect_uri=urn%3Aietf%3Awg%3Aoauth%3A2.0%3Aoob&scope=email%20https%3A%2F%2Fwww.googleapis.com%2Fauth%2Fdocs.test%20https%3A%2F%2Fwww.googleapis.com%2Fauth%2Fdrive%20https%3A%2F%2Fwww.googleapis.com%2Fauth%2Fdrive.photos.readonly%20https%3A%2F%2Fwww.googleapis.com%2Fauth%2Fpeopleapi.readonly&response_type=code\n",
            "\n",
            "Enter your authorization code:\n",
            "··········\n",
            "Mounted at /content/gdrive\n"
          ],
          "name": "stdout"
        }
      ]
    },
    {
      "metadata": {
        "id": "7H3jyNpSHD49",
        "colab_type": "code",
        "outputId": "0816b45a-0c1f-4613-bc14-bb7784e3bacd",
        "colab": {
          "base_uri": "https://localhost:8080/",
          "height": 279
        }
      },
      "cell_type": "code",
      "source": [
        "# Install PyTorch\n",
        "from os.path import exists\n",
        "from wheel.pep425tags import get_abbr_impl, get_impl_ver, get_abi_tag\n",
        "platform = '{}{}-{}'.format(get_abbr_impl(), get_impl_ver(), get_abi_tag())\n",
        "cuda_output = !ldconfig -p|grep cudart.so|sed -e 's/.*\\.\\([0-9]*\\)\\.\\([0-9]*\\)$/cu\\1\\2/'\n",
        "accelerator = cuda_output[0] if exists('/dev/nvidia0') else 'cpu'\n",
        "!pip install -q http://download.pytorch.org/whl/{accelerator}/torch-0.4.1-{platform}-linux_x86_64.whl torchvision\n",
        "!pip install torchtext\n",
        "import torch"
      ],
      "execution_count": 0,
      "outputs": [
        {
          "output_type": "stream",
          "text": [
            "tcmalloc: large alloc 1073750016 bytes == 0x57c0c000 @  0x7f17fbd512a4 0x591a07 0x5b5d56 0x502e9a 0x506859 0x502209 0x502f3d 0x506859 0x504c28 0x502540 0x502f3d 0x506859 0x504c28 0x502540 0x502f3d 0x506859 0x504c28 0x502540 0x502f3d 0x507641 0x502209 0x502f3d 0x506859 0x504c28 0x502540 0x502f3d 0x507641 0x504c28 0x502540 0x502f3d 0x507641\n",
            "Collecting torchtext\n",
            "\u001b[?25l  Downloading https://files.pythonhosted.org/packages/c6/bc/b28b9efb4653c03e597ed207264eea45862b5260f48e9f010b5068d64db1/torchtext-0.3.1-py3-none-any.whl (62kB)\n",
            "\u001b[K    100% |████████████████████████████████| 71kB 6.0MB/s \n",
            "\u001b[?25hRequirement already satisfied: torch in /usr/local/lib/python3.6/dist-packages (from torchtext) (0.4.1)\n",
            "Requirement already satisfied: requests in /usr/local/lib/python3.6/dist-packages (from torchtext) (2.18.4)\n",
            "Requirement already satisfied: numpy in /usr/local/lib/python3.6/dist-packages (from torchtext) (1.14.6)\n",
            "Requirement already satisfied: tqdm in /usr/local/lib/python3.6/dist-packages (from torchtext) (4.28.1)\n",
            "Requirement already satisfied: urllib3<1.23,>=1.21.1 in /usr/local/lib/python3.6/dist-packages (from requests->torchtext) (1.22)\n",
            "Requirement already satisfied: certifi>=2017.4.17 in /usr/local/lib/python3.6/dist-packages (from requests->torchtext) (2018.11.29)\n",
            "Requirement already satisfied: idna<2.7,>=2.5 in /usr/local/lib/python3.6/dist-packages (from requests->torchtext) (2.6)\n",
            "Requirement already satisfied: chardet<3.1.0,>=3.0.2 in /usr/local/lib/python3.6/dist-packages (from requests->torchtext) (3.0.4)\n",
            "Installing collected packages: torchtext\n",
            "Successfully installed torchtext-0.3.1\n"
          ],
          "name": "stdout"
        }
      ]
    },
    {
      "metadata": {
        "id": "SuuuJZd7ZuIU",
        "colab_type": "code",
        "colab": {}
      },
      "cell_type": "code",
      "source": [
        "# Libraries\n",
        "import torch\n",
        "import torch.nn as nn\n",
        "import torch.nn.functional as F\n",
        "import numpy as np\n",
        "import os\n",
        "import time\n",
        "import pandas as pd\n",
        "import matplotlib.pyplot as plt\n",
        "import seaborn as sns\n",
        "\n",
        "# GPU\n",
        "device = torch.device('cuda')"
      ],
      "execution_count": 0,
      "outputs": []
    },
    {
      "metadata": {
        "id": "Cx8AbI2LjfE7",
        "colab_type": "text"
      },
      "cell_type": "markdown",
      "source": [
        "# Load and clean data"
      ]
    },
    {
      "metadata": {
        "id": "VOE9X9BTxOvw",
        "colab_type": "code",
        "colab": {}
      },
      "cell_type": "code",
      "source": [
        "# Download data\n",
        "legitimate_URLs = np.load(\"/content/gdrive/My Drive/legitimate_URLs.npy\")\n",
        "legitimate_URLs = np.concatenate((legitimate_URLs,np.load(\"/content/gdrive/My Drive/legitimate_URLs2.npy\")))\n",
        "phishing_URLs = np.load(\"/content/gdrive/My Drive/phishing_URLs.npy\")\n",
        "phishing_URLs = np.concatenate((phishing_URLs,np.load(\"/content/gdrive/My Drive/phishing_URLs2.npy\")))\n",
        "# randomly permute URLs\n",
        "np.random.seed(0)\n",
        "legitimate_URLs = list(legitimate_URLs[np.random.permutation(len(legitimate_URLs))])\n",
        "phishing_URLs = list(phishing_URLs[np.random.permutation(len(phishing_URLs))])\n",
        "# clean URLs\n",
        "legitimate_URLs = [l.split('http://')[-1].split('www.')[-1].split('https://')[-1] for l in legitimate_URLs]\n",
        "phishing_URLs = [p.split('http://')[-1].split('www.')[-1].split('https://')[-1] for p in phishing_URLs]\n",
        "phishing_URLs = list(set(phishing_URLs) - set(legitimate_URLs))"
      ],
      "execution_count": 0,
      "outputs": []
    },
    {
      "metadata": {
        "colab_type": "code",
        "outputId": "fbf917b6-c417-4b9e-8ea4-0d105cd7b1d5",
        "id": "8vMg_EszoYdJ",
        "colab": {
          "base_uri": "https://localhost:8080/",
          "height": 34
        }
      },
      "cell_type": "code",
      "source": [
        "len(legitimate_URLs), len(phishing_URLs)\n",
        "\n",
        "# phishing URL list a bit small"
      ],
      "execution_count": 0,
      "outputs": [
        {
          "output_type": "execute_result",
          "data": {
            "text/plain": [
              "(191233, 11570)"
            ]
          },
          "metadata": {
            "tags": []
          },
          "execution_count": 5
        }
      ]
    },
    {
      "metadata": {
        "id": "faSrZGAEK7wr",
        "colab_type": "code",
        "colab": {}
      },
      "cell_type": "code",
      "source": [
        "# map to numbers\n",
        "letters = ''.join(legitimate_URLs+phishing_URLs)\n",
        "from collections import Counter\n",
        "c = Counter(letters)\n",
        "d = {}\n",
        "for i, (l, _) in enumerate(c.most_common(128)):\n",
        "    d[l] = i + 1"
      ],
      "execution_count": 0,
      "outputs": []
    },
    {
      "metadata": {
        "id": "W5dbZ30soiBV",
        "colab_type": "code",
        "colab": {}
      },
      "cell_type": "code",
      "source": [
        "# training set: all keys plus non-keys\n",
        "# testing set: remaining non-keys \n",
        "training_list = legitimate_URLs[:int(len(legitimate_URLs)/2)]+phishing_URLs\n",
        "testing_list = legitimate_URLs[int(len(legitimate_URLs)/2):]\n",
        "    \n",
        "# cut off at 150 chars\n",
        "char_cutoff = 150\n",
        "X_train = torch.tensor([[d.get(l,0) for l in url[:min([len(url),char_cutoff])]]+[0 for l in range(char_cutoff-len(url))] \n",
        "                        for url in training_list])\n",
        "y_train = torch.tensor([0]*int(len(legitimate_URLs)/2)+[1]*int(len(phishing_URLs)))\n",
        "\n",
        "X_test = torch.tensor([[d.get(l,0) for l in url[:min([len(url),char_cutoff])]]+[0 for l in range(char_cutoff-len(url))] \n",
        "                        for url in testing_list])\n",
        "y_test = torch.tensor([0]*(len(testing_list)))"
      ],
      "execution_count": 0,
      "outputs": []
    },
    {
      "metadata": {
        "id": "RSiIBBk2e8-s",
        "colab_type": "code",
        "colab": {}
      },
      "cell_type": "code",
      "source": [
        "# Batch data\n",
        "def make_batch_train(X_t, y_t, B):\n",
        "  sample = torch.randint(0, X_t.shape[0], [B]).long()\n",
        "  batch_X0 = torch.stack([X_t[s] for s in sample])\n",
        "  batch_X = batch_X0.to(device)\n",
        "  batch_y0 = torch.stack([y_t[s]*torch.ones(len(X_t[s])).long() for s in sample]).to(device)\n",
        "  batch_y = batch_y0.to(device)\n",
        "  return batch_X, batch_y\n",
        "  \n",
        "def make_batch_test(X_t, y_t, B):\n",
        "  sample = torch.randint(0, X_t.shape[0], [B]).long()\n",
        "  batch_X0 = torch.stack([X_t[s] for s in sample])\n",
        "  batch_X = batch_X0.to(device)\n",
        "  batch_y0 = torch.stack([y_t[s] for s in sample]).to(device)\n",
        "  batch_y = batch_y0.to(device)\n",
        "  return batch_X, batch_y"
      ],
      "execution_count": 0,
      "outputs": []
    },
    {
      "metadata": {
        "id": "IydI_DuQzvQj",
        "colab_type": "code",
        "colab": {}
      },
      "cell_type": "code",
      "source": [
        "class RNN(nn.Module):\n",
        "    def __init__(self, input_size=150, output_size=2, emb_size=128, h_size=128, layers=1, dropout=0.3):\n",
        "        super(RNN, self).__init__()\n",
        "        self.embedding = nn.Embedding(input_size, emb_size)\n",
        "        self.rnn = nn.GRU(emb_size, h_size, num_layers=layers, batch_first=True)\n",
        "        self.dropout = nn.Dropout(dropout)\n",
        "        self.linear = nn.Linear(h_size, output_size)\n",
        "        \n",
        "    def forward(self, x, h=None):\n",
        "        x = self.embedding(x)\n",
        "        x, h = self.rnn(x, h)\n",
        "        x = self.linear(x)\n",
        "        return x, h"
      ],
      "execution_count": 0,
      "outputs": []
    },
    {
      "metadata": {
        "id": "k4jkGELPzx72",
        "colab_type": "code",
        "colab": {}
      },
      "cell_type": "code",
      "source": [
        "def val(model, X_t, y_t):\n",
        "    model.eval()\n",
        "    with torch.no_grad():\n",
        "        total = 0\n",
        "        total_right = 0\n",
        "        total_loss = 0\n",
        "        for batch in range(50):\n",
        "            x, y = make_batch_test(X_t, y_t, 256)\n",
        "            y_hat, _ = model(x)\n",
        "            #optimizer.zero_grad()\n",
        "            preds = y_hat.max(dim=2)[1][:,149]\n",
        "            preds_eq = preds.eq(y)\n",
        "            total_right += preds_eq.sum().item()\n",
        "            total += preds_eq.numel()\n",
        "            loss = criterion(y_hat[:,149].view(-1,2), y.view(-1).long()).detach().item()\n",
        "            total_loss += loss\n",
        "    return total_right / total, total_loss / 50"
      ],
      "execution_count": 0,
      "outputs": []
    },
    {
      "metadata": {
        "id": "iUpOjBikzzi3",
        "colab_type": "code",
        "colab": {}
      },
      "cell_type": "code",
      "source": [
        "def train(model):\n",
        "    model.train()\n",
        "    total_loss = 0\n",
        "    for batch in range(50):\n",
        "        x, y = make_batch_train(X_train, y_train, 256)\n",
        "        y_hat, _ = model(x)\n",
        "        optimizer.zero_grad()\n",
        "        y_hat = y_hat.view(-1,2)\n",
        "        y = y.view(-1).long()\n",
        "        loss = criterion(y_hat, y)\n",
        "        loss.backward()\n",
        "        optimizer.step()\n",
        "    total_loss += loss.item()\n",
        "    return total_loss / 50"
      ],
      "execution_count": 0,
      "outputs": []
    },
    {
      "metadata": {
        "id": "MRU8Nn49Q_3-",
        "colab_type": "code",
        "colab": {}
      },
      "cell_type": "code",
      "source": [
        "emb_size=5\n",
        "h_sizes = [16,8,4]\n",
        "layers = 1\n",
        "criterion = nn.CrossEntropyLoss()\n",
        "loc = \"/content/gdrive/My Drive/College/current classes/CS 222 fall 2018/CS222 Project/simulations/\"\n",
        "plot_loc = \"/content/gdrive/My Drive/College/current classes/CS 222 fall 2018/CS222 Project/plots/\""
      ],
      "execution_count": 0,
      "outputs": []
    },
    {
      "metadata": {
        "id": "ttM9ANfpjlVn",
        "colab_type": "text"
      },
      "cell_type": "markdown",
      "source": [
        "# Train (don't need to run this)"
      ]
    },
    {
      "metadata": {
        "id": "mrO8gtMOz1tw",
        "colab_type": "code",
        "outputId": "90048b1d-b015-4697-df0c-f1d4d486c5fa",
        "colab": {
          "base_uri": "https://localhost:8080/",
          "height": 224
        }
      },
      "cell_type": "code",
      "source": [
        "models = {}\n",
        "for i in range(3):\n",
        "  h_size = h_sizes[i]\n",
        "  # Create model, loss function, optimizer\n",
        "  models[i] = RNN(emb_size=emb_size, h_size=h_size, layers=layers).to(device)\n",
        "  optimizer = torch.optim.Adamax(models[i].parameters())\n",
        "\n",
        "  # Train and validate\n",
        "  start = time.time()\n",
        "  for epoch in range(30):\n",
        "      train_loss = train(models[i])\n",
        "      val_acc, val_loss = val(models[i],X_train, y_train)\n",
        "      if(epoch%10 == 0):\n",
        "        print('[E{:4d}] Loss: {:.4f} | Acc: {:.4f}'.format(epoch, val_loss, val_acc))\n",
        "  end = time.time()\n",
        "  print(end-start)\n",
        "  torch.save(models[i].state_dict(), loc+\"RNN_emb\"+str(emb_size)+\"_hid\"+str(h_size))  "
      ],
      "execution_count": 0,
      "outputs": [
        {
          "output_type": "stream",
          "text": [
            "[E   0] Loss: 0.3463 | Acc: 0.8901\n",
            "[E  10] Loss: 0.3037 | Acc: 0.8941\n",
            "[E  20] Loss: 0.2079 | Acc: 0.9237\n",
            "93.85430550575256\n",
            "[E   0] Loss: 0.3458 | Acc: 0.8936\n",
            "[E  10] Loss: 0.3413 | Acc: 0.8925\n",
            "[E  20] Loss: 0.3324 | Acc: 0.8938\n",
            "122.24123215675354\n",
            "[E   0] Loss: 0.3811 | Acc: 0.8921\n",
            "[E  10] Loss: 0.3354 | Acc: 0.8951\n",
            "[E  20] Loss: 0.3394 | Acc: 0.8925\n",
            "106.56146216392517\n"
          ],
          "name": "stdout"
        }
      ]
    },
    {
      "metadata": {
        "id": "r1M9slR3joT1",
        "colab_type": "text"
      },
      "cell_type": "markdown",
      "source": [
        "# Load trained RNNs and evaluate (change paths)"
      ]
    },
    {
      "metadata": {
        "id": "pYcTnDiDZyBq",
        "colab_type": "code",
        "outputId": "e22fc64b-f87a-4cfc-95b7-06e0aa14df7f",
        "colab": {
          "base_uri": "https://localhost:8080/",
          "height": 276
        }
      },
      "cell_type": "code",
      "source": [
        "# sizes of RNN models\n",
        "models = {}\n",
        "model_sizes = {}\n",
        "for i,h_size in enumerate(h_sizes):\n",
        "  print(\"hidden size\", h_size)\n",
        "  model_sizes[i] = os.path.getsize(loc+\"RNN_emb\"+str(emb_size)+\"_hid\"+str(h_size))\n",
        "  print(\"model size (bytes)\", model_sizes[i])\n",
        "  models[i] = RNN(emb_size=emb_size, h_size=h_size, layers=layers).to(device)\n",
        "  models[i].load_state_dict(torch.load(loc+\"RNN_emb\"+str(emb_size)+\"_hid\"+str(h_size)))\n",
        "  models[i].eval()\n",
        "  print(val(models[i], X_test,y_test))\n",
        "  \n",
        "  avg_time = 0\n",
        "  for t in range(100):\n",
        "    x,y = make_batch_test(X_test, y_test,1)\n",
        "    start = time.time()\n",
        "    models[i](x)\n",
        "    total = time.time()-start\n",
        "    avg_time += total\n",
        "  avg_time /= 100\n",
        "  print(\"time to evaluate\", avg_time)\n",
        "  print(\"=\"*30)"
      ],
      "execution_count": 0,
      "outputs": [
        {
          "output_type": "stream",
          "text": [
            "hidden size 16\n",
            "model size (bytes) 8666\n",
            "(0.993984375, 0.04757724568247795)\n",
            "time to evaluate 0.006016991138458252\n",
            "==============================\n",
            "hidden size 8\n",
            "model size (bytes) 5624\n",
            "(0.979296875, 0.09601368442177773)\n",
            "time to evaluate 0.0060491180419921875\n",
            "==============================\n",
            "hidden size 4\n",
            "model size (bytes) 4676\n",
            "(0.999921875, 0.09370115146040917)\n",
            "time to evaluate 0.005935673713684082\n",
            "==============================\n"
          ],
          "name": "stdout"
        }
      ]
    },
    {
      "metadata": {
        "id": "5FnUFpczkQG4",
        "colab_type": "text"
      },
      "cell_type": "markdown",
      "source": [
        "# Bloom Filter Class"
      ]
    },
    {
      "metadata": {
        "id": "n3Jr-ymVkZBM",
        "colab_type": "code",
        "outputId": "70a83a47-b5b6-413f-be71-1f4977855d33",
        "colab": {
          "base_uri": "https://localhost:8080/",
          "height": 314
        }
      },
      "cell_type": "code",
      "source": [
        "!pip install mmh3\n",
        "!pip install bitarray"
      ],
      "execution_count": 0,
      "outputs": [
        {
          "output_type": "stream",
          "text": [
            "Collecting mmh3\n",
            "  Downloading https://files.pythonhosted.org/packages/fa/7e/3ddcab0a9fcea034212c02eb411433db9330e34d626360b97333368b4052/mmh3-2.5.1.tar.gz\n",
            "Building wheels for collected packages: mmh3\n",
            "  Running setup.py bdist_wheel for mmh3 ... \u001b[?25l-\b \b\\\b \b|\b \b/\b \bdone\n",
            "\u001b[?25h  Stored in directory: /root/.cache/pip/wheels/38/b4/ea/6e4e321c625d3320c0c496bf4088371546d8fce5f1dd71b219\n",
            "Successfully built mmh3\n",
            "Installing collected packages: mmh3\n",
            "Successfully installed mmh3-2.5.1\n",
            "Collecting bitarray\n",
            "  Downloading https://files.pythonhosted.org/packages/e2/1e/b93636ae36d08d0ee3aec40b08731cc97217c69db9422c0afef6ee32ebd2/bitarray-0.8.3.tar.gz\n",
            "Building wheels for collected packages: bitarray\n",
            "  Running setup.py bdist_wheel for bitarray ... \u001b[?25l-\b \b\\\b \bdone\n",
            "\u001b[?25h  Stored in directory: /root/.cache/pip/wheels/5f/33/3c/1370189fedb8fbb2c3297388cc8cdbe2af0efb48941cf8d526\n",
            "Successfully built bitarray\n",
            "Installing collected packages: bitarray\n",
            "Successfully installed bitarray-0.8.3\n"
          ],
          "name": "stdout"
        }
      ]
    },
    {
      "metadata": {
        "id": "Ce4oNOg9XKJr",
        "colab_type": "code",
        "colab": {}
      },
      "cell_type": "code",
      "source": [
        "import mmh3\n",
        "import math\n",
        "import torch\n",
        "from bitarray import bitarray \n",
        "\n",
        "class BloomFilter(object): \n",
        "  \n",
        "    def __init__(self, items_count,fp_prob): \n",
        "        ''' \n",
        "        items_count : int \n",
        "            Number of items expected to be stored in bloom filter \n",
        "        fp_prob : float \n",
        "            False Positive probability in decimal \n",
        "        '''\n",
        "        # False posible probability in decimal \n",
        "        self.fp_prob = fp_prob \n",
        "  \n",
        "        # Size of bit array to use \n",
        "        self.size = self.get_size(items_count,fp_prob) \n",
        "  \n",
        "        # number of hash functions to use \n",
        "        self.hash_count = self.get_hash_count(self.size,items_count) \n",
        "  \n",
        "        # Bit array of given size \n",
        "        self.bit_array = bitarray(self.size) \n",
        "  \n",
        "        # initialize all bits as 0 \n",
        "        self.bit_array.setall(0) \n",
        "  \n",
        "    def add(self, item): \n",
        "        ''' \n",
        "        Add an item in the filter \n",
        "        '''\n",
        "        digests = [] \n",
        "        for i in range(self.hash_count): \n",
        "            # i works as seed to mmh3.hash() function \n",
        "            digest = mmh3.hash(item,i) % self.size \n",
        "            digests.append(digest) \n",
        "  \n",
        "            # set the bit True in bit_array \n",
        "            self.bit_array[digest] = True\n",
        "  \n",
        "    def check(self, item): \n",
        "        ''' \n",
        "        Check for existence of an item in filter \n",
        "        '''\n",
        "        for i in range(self.hash_count): \n",
        "            digest = mmh3.hash(item,i) % self.size \n",
        "            if self.bit_array[digest] == False: \n",
        "  \n",
        "                # if any of bit is False then,its not present \n",
        "                # in filter \n",
        "                # else there is probability that it exist \n",
        "                return False\n",
        "        return True\n",
        "  \n",
        "    @classmethod\n",
        "    def get_size(self,n,p): \n",
        "        ''' \n",
        "        Return the size of bit array(m) to used using \n",
        "        following formula \n",
        "        m = -(n * lg(p)) / (lg(2)^2) \n",
        "        n : int \n",
        "            number of items expected to be stored in filter \n",
        "        p : float \n",
        "            False Positive probability in decimal \n",
        "        '''\n",
        "        m = -(n * math.log(p))/(math.log(2)**2) \n",
        "        return int(m) \n",
        "  \n",
        "    @classmethod\n",
        "    def get_hash_count(self, m, n): \n",
        "        ''' \n",
        "        Return the hash function(k) to be used using \n",
        "        following formula \n",
        "        k = (m/n) * lg(2) \n",
        "  \n",
        "        m : int \n",
        "            size of bit array \n",
        "        n : int \n",
        "            number of items expected to be stored in filter \n",
        "        '''\n",
        "        k = (m/n) * math.log(2) \n",
        "        return int(k)"
      ],
      "execution_count": 0,
      "outputs": []
    },
    {
      "metadata": {
        "id": "kAhcFnszkflF",
        "colab_type": "text"
      },
      "cell_type": "markdown",
      "source": [
        "# BF"
      ]
    },
    {
      "metadata": {
        "id": "aNrQv0I2kxJp",
        "colab_type": "code",
        "colab": {}
      },
      "cell_type": "code",
      "source": [
        "def run_BF(FPR):\n",
        "  BF = BloomFilter(len(phishing_URLs), FPR)\n",
        "  for url in phishing_URLs:\n",
        "    BF.add(url)\n",
        "  \n",
        "  \n",
        "  fps = 0\n",
        "  total = 0\n",
        "  total_time = 0\n",
        "  for url in testing_list:\n",
        "    total += 1\n",
        "    start = time.time()\n",
        "    result = BF.check(url)\n",
        "    end = time.time()\n",
        "    total_time += (end-start)\n",
        "    if result == True:\n",
        "      fps += 1\n",
        "  \n",
        "  avg_fp = fps/total\n",
        "\n",
        "  # returns empirical FPR, BF size in bytes, and access time per element\n",
        "  return avg_fp, BF.size/8, (total_time)/len(testing_list)"
      ],
      "execution_count": 0,
      "outputs": []
    },
    {
      "metadata": {
        "id": "Geiultr4yIQe",
        "colab_type": "code",
        "outputId": "82537eb7-f2cc-41ed-c7c4-90c9080e15d1",
        "colab": {
          "base_uri": "https://localhost:8080/",
          "height": 34
        }
      },
      "cell_type": "code",
      "source": [
        "FPR, BF_size, t = run_BF(0.02)\n",
        "print(\"FPR\", FPR, \"size\", BF_size, \"time\", t)\n",
        "BF = {\"FPR\": FPR, \"size\": BF_size, \"time\": t}\n",
        "np.save(loc+\"BF\", BF)"
      ],
      "execution_count": 0,
      "outputs": [
        {
          "output_type": "stream",
          "text": [
            "FPR 0.02166978675340159 size 11775.875 time 1.644546363728673e-06\n"
          ],
          "name": "stdout"
        }
      ]
    },
    {
      "metadata": {
        "id": "JnWwuu0lvXbO",
        "colab_type": "code",
        "outputId": "7b660584-7e04-4d7a-cab0-c4ac963706d6",
        "colab": {
          "base_uri": "https://localhost:8080/",
          "height": 34
        }
      },
      "cell_type": "code",
      "source": [
        "BF_sizes = {}\n",
        "for fpr in fprs:\n",
        "  BF = BloomFilter(len(phishing_URLs), fpr)\n",
        "  BF_sizes[fpr] = BF.size / 8\n",
        "  \n",
        "print(BF_sizes)"
      ],
      "execution_count": 0,
      "outputs": [
        {
          "output_type": "stream",
          "text": [
            "{0.001: 20793.5, 0.005: 15948.875, 0.01: 13862.375, 0.02: 11775.875}\n"
          ],
          "name": "stdout"
        }
      ]
    },
    {
      "metadata": {
        "id": "XGPXONP--51O",
        "colab_type": "text"
      },
      "cell_type": "markdown",
      "source": [
        "# Classifier"
      ]
    },
    {
      "metadata": {
        "id": "jtyF49pSjvFv",
        "colab_type": "code",
        "colab": {}
      },
      "cell_type": "code",
      "source": [
        "def get_classifier_probs(model):\n",
        "  probs1 = []\n",
        "  probs0 = []\n",
        "  for i in range(int(len(y_train)/100)+1):\n",
        "    x0 = torch.stack([X_train[s] for s in range(100*i, min(100*(i+1), len(y_train)))])\n",
        "    x = x0.to(device)\n",
        "    y0 = torch.stack([y_train[s] for s in range(100*i, min(100*(i+1), len(y_train)))])\n",
        "    y = y0.to(device)  \n",
        "    y_hat, _ = model(x)\n",
        "    ps = torch.sigmoid(y_hat[:,:,1])[:,149]\n",
        "    probs1 += list(ps[y==1].squeeze().detach().cpu().numpy())\n",
        "    probs0 += list(ps[y==0].squeeze().detach().cpu().numpy())\n",
        "  return probs1, probs0"
      ],
      "execution_count": 0,
      "outputs": []
    },
    {
      "metadata": {
        "id": "4rI1KgZQe6U8",
        "colab_type": "code",
        "colab": {}
      },
      "cell_type": "code",
      "source": [
        "# probs = {}\n",
        "# urls = {}\n",
        "# probs[0] = get_classifier_probs(models[0])\n",
        "# probs[1] = get_classifier_probs(models[1])\n",
        "# probs[2] = get_classifier_probs(models[2])"
      ],
      "execution_count": 0,
      "outputs": []
    },
    {
      "metadata": {
        "id": "GL782j87fPXW",
        "colab_type": "code",
        "colab": {}
      },
      "cell_type": "code",
      "source": [
        "# sns.distplot(probs[0], label = \"GRU, 128 dimensions\")\n",
        "# sns.distplot(probs[1], label = \"GRU, 32 dimensions\")\n",
        "# sns.distplot(probs[2], label = \"GRU, 16 dimensions\")\n",
        "# plt.title(\"Distribution of classifier output probabilities for non-keys\")\n",
        "# plt.legend()\n",
        "# plt.show()"
      ],
      "execution_count": 0,
      "outputs": []
    },
    {
      "metadata": {
        "id": "jffNHR2fgdRI",
        "colab_type": "code",
        "colab": {}
      },
      "cell_type": "code",
      "source": [
        "def determine_tau(FPR_tau, prob_list):\n",
        "  return np.percentile(np.array(prob_list),100*(1.-FPR_tau))"
      ],
      "execution_count": 0,
      "outputs": []
    },
    {
      "metadata": {
        "id": "wskpqti-kGxL",
        "colab_type": "text"
      },
      "cell_type": "markdown",
      "source": [
        "# LBF"
      ]
    },
    {
      "metadata": {
        "id": "c0VjG9_Yj8Ym",
        "colab_type": "code",
        "colab": {}
      },
      "cell_type": "code",
      "source": [
        "def build_LBF_classifier(model,FPR_tau):\n",
        "  probs1, probs0 = get_classifier_probs(model)\n",
        "  tau = determine_tau(FPR_tau,probs0)\n",
        "  false_negs = []\n",
        "  for i,url in enumerate(phishing_URLs):\n",
        "    if(probs1[i] < tau):\n",
        "      false_negs += [url]\n",
        "  return false_negs, tau"
      ],
      "execution_count": 0,
      "outputs": []
    },
    {
      "metadata": {
        "id": "rjycaqWhPQsC",
        "colab_type": "code",
        "colab": {}
      },
      "cell_type": "code",
      "source": [
        "def build_LBF_backup(false_negs, FPR, FPR_tau):\n",
        "  num_false_negs = len(false_negs)\n",
        "  FPR_B = (FPR-FPR_tau)/(1-FPR_tau)\n",
        "  if(FPR_B <= 0):\n",
        "    return \"error\"\n",
        "  LBF_backup = BloomFilter(num_false_negs, FPR_B)\n",
        "  for url in false_negs:\n",
        "    LBF_backup.add(url)\n",
        "  return LBF_backup"
      ],
      "execution_count": 0,
      "outputs": []
    },
    {
      "metadata": {
        "id": "XLuM9cKq-kD4",
        "colab_type": "code",
        "colab": {}
      },
      "cell_type": "code",
      "source": [
        "def test_LBF(model, LBF_backup, tau):\n",
        "  # test on testing data\n",
        "  fps = 0\n",
        "  total = 0\n",
        "  total_time = 0\n",
        "  for i in range(int(len(y_test)/100)+1):\n",
        "    x0 = torch.stack([X_test[s] for s in range(100*i, min(100*(i+1), len(y_test)))])\n",
        "    x = x0.to(device)\n",
        "    y0 = torch.stack([y_test[s] for s in range(100*i, min(100*(i+1), len(y_test)))])\n",
        "    y = y0.to(device)  \n",
        "    total += len(y)\n",
        "    \n",
        "    start = time.time()\n",
        "    y_hat, _ = model(x)\n",
        "    ps = torch.sigmoid(y_hat[:,:,1])[:,149].squeeze().detach().cpu().numpy()\n",
        "    for ix, p in enumerate(ps):\n",
        "      if(p > tau):\n",
        "        result = True        \n",
        "      else:\n",
        "        result = LBF_backup.check(testing_list[100*i+ix])\n",
        "      if(result):\n",
        "        fps += 1\n",
        "    end = time.time()\n",
        "    total_time += (end-start)\n",
        "\n",
        "  avg_fp = fps/total\n",
        "  \n",
        "  # returns empirical FPR, BF size, and avg access time\n",
        "  return avg_fp, LBF_backup.size / 8, (total_time)/len(y_test)"
      ],
      "execution_count": 0,
      "outputs": []
    },
    {
      "metadata": {
        "id": "xVTsU-kgOEMn",
        "colab_type": "text"
      },
      "cell_type": "markdown",
      "source": [
        "# SBF.py equivalent"
      ]
    },
    {
      "metadata": {
        "id": "aH-aAi8aOJgM",
        "colab_type": "code",
        "colab": {}
      },
      "cell_type": "code",
      "source": [
        "def build_SLBF_initial(false_negs, FPR, FPR_tau):\n",
        "  num_false_negs = len(false_negs)\n",
        "  FPR_B0 = FPR/FPR_tau*(1.-num_false_negs/len(phishing_URLs))\n",
        "  if(FPR_B0 <= 0 or FPR_B0 >= 1):\n",
        "    return \"error\"\n",
        "  SLBF_initial = BloomFilter(len(phishing_URLs), FPR_B0)\n",
        "  for url in phishing_URLs:\n",
        "    SLBF_initial.add(url)\n",
        "  return SLBF_initial"
      ],
      "execution_count": 0,
      "outputs": []
    },
    {
      "metadata": {
        "id": "F1bQENYNShk3",
        "colab_type": "code",
        "colab": {}
      },
      "cell_type": "code",
      "source": [
        "def build_SLBF_backup(false_negs, FPR_tau):\n",
        "  num_false_negs = len(false_negs)\n",
        "  FPR_B = FPR_tau/((1-FPR_tau)*(len(phishing_URLs)/num_false_negs - 1))\n",
        "  if(FPR_B <= 0):\n",
        "    return \"error\"\n",
        "  SLBF_backup = BloomFilter(num_false_negs, FPR_B)\n",
        "  for url in false_negs:\n",
        "    SLBF_backup.add(url)\n",
        "  return SLBF_backup"
      ],
      "execution_count": 0,
      "outputs": []
    },
    {
      "metadata": {
        "id": "UF-srG_ZW0vP",
        "colab_type": "code",
        "colab": {}
      },
      "cell_type": "code",
      "source": [
        "def test_SLBF(SLBF_initial, model, SLBF_backup, tau):\n",
        "  # test on testing data\n",
        "  fps = 0\n",
        "  total = 0\n",
        "  total_time = 0\n",
        "  for i in range(int(len(y_test)/100)+1):\n",
        "    x0 = torch.stack([X_test[s] for s in range(100*i, min(100*(i+1), len(y_test)))])\n",
        "    x = x0.to(device)\n",
        "    y0 = torch.stack([y_test[s] for s in range(100*i, min(100*(i+1), len(y_test)))])\n",
        "    y = y0.to(device)  \n",
        "    total += len(y)\n",
        "    \n",
        "    start = time.time()\n",
        "    y_hat, _ = model(x)\n",
        "    ps = torch.sigmoid(y_hat[:,:,1])[:,149].squeeze().detach().cpu().numpy()\n",
        "    for ix, p in enumerate(ps):\n",
        "      result = SLBF_initial.check(testing_list[100*i+ix])\n",
        "      if(result):\n",
        "        if(p>tau):\n",
        "          result = True\n",
        "        else:\n",
        "          result = SLBF_backup.check(testing_list[100*i+ix])\n",
        "      if(result):\n",
        "        fps += 1\n",
        "    end = time.time()\n",
        "    total_time += (end-start)\n",
        "\n",
        "  avg_fp = fps/total\n",
        "  \n",
        "  # returns empirical FPR, BF size, and avg access time\n",
        "  return avg_fp, (SLBF_initial.size+SLBF_backup.size) / 8, (total_time)/len(y_test)"
      ],
      "execution_count": 0,
      "outputs": []
    },
    {
      "metadata": {
        "id": "LDXEBOSSo4AS",
        "colab_type": "code",
        "colab": {}
      },
      "cell_type": "code",
      "source": [
        ""
      ],
      "execution_count": 0,
      "outputs": []
    },
    {
      "metadata": {
        "id": "heV-YOqpOJ1R",
        "colab_type": "text"
      },
      "cell_type": "markdown",
      "source": [
        "# $\\tau$ analysis for LBF"
      ]
    },
    {
      "metadata": {
        "id": "19IzVQ40ODJ4",
        "colab_type": "code",
        "outputId": "5d610fed-4ddc-4e68-8e8e-3630a0002bf7",
        "colab": {
          "base_uri": "https://localhost:8080/",
          "height": 2091
        }
      },
      "cell_type": "code",
      "source": [
        "fprs = [0.001,0.005,0.01,0.02]\n",
        "fpr_ratios = [0.1*i for i in range(1,11)]\n",
        "false_negs = {}\n",
        "taus = {}\n",
        "for i in range(3):\n",
        "  false_negs[i] = {}\n",
        "  taus[i] = {}\n",
        "  for fpr in fprs:\n",
        "    for fpr_ratio in fpr_ratios:\n",
        "      false_negs[i][(fpr,fpr_ratio)], taus[i][(fpr,fpr_ratio)] = build_LBF_classifier(models[i], fpr*fpr_ratio)\n",
        "      print(len(false_negs[i][(fpr,fpr_ratio)])/len(phishing_URLs), taus[i][(fpr,fpr_ratio)])"
      ],
      "execution_count": 0,
      "outputs": [
        {
          "output_type": "stream",
          "text": [
            "0.9739844425237684 0.768336955070491\n",
            "0.9423509075194468 0.7601787717938461\n",
            "0.9248055315471045 0.7556438425779307\n",
            "0.91495246326707 0.752091467738152\n",
            "0.8891961970613655 0.7430379012227105\n",
            "0.8790838375108038 0.7383372384309723\n",
            "0.8657735522904062 0.7327593480944624\n",
            "0.8432152117545376 0.7199571111202261\n",
            "0.8307692307692308 0.7119419878721297\n",
            "0.8180639585133967 0.7020724827051188\n",
            "0.8891961970613655 0.7430379012227105\n",
            "0.8180639585133967 0.7020724827051188\n",
            "0.7826274848746759 0.6687090955674648\n",
            "0.7395851339671564 0.6206340336799692\n",
            "0.7218668971477961 0.5959508910775231\n",
            "0.7056179775280899 0.5754335978627197\n",
            "0.6865168539325842 0.5504393991827983\n",
            "0.680466724286949 0.5414081406593316\n",
            "0.670181503889369 0.52859745025636\n",
            "0.6623163353500432 0.5175028517842295\n",
            "0.8180639585133967 0.7020724827051188\n",
            "0.7395851339671564 0.6206340336799692\n",
            "0.7056179775280899 0.5754335978627197\n",
            "0.680466724286949 0.5414081406593316\n",
            "0.6623163353500432 0.5175028517842295\n",
            "0.6445980985306828 0.49808899015188407\n",
            "0.6262748487467589 0.47742681846022494\n",
            "0.6125324114088159 0.4632381570339203\n",
            "0.6001728608470182 0.45183430910110434\n",
            "0.5885911840968021 0.4393618702888489\n",
            "0.7395851339671564 0.6206340336799692\n",
            "0.680466724286949 0.5414081406593316\n",
            "0.6445980985306828 0.49808899015188407\n",
            "0.6125324114088159 0.4632381570339203\n",
            "0.5885911840968021 0.4393618702888489\n",
            "0.5699222126188418 0.42012830376625054\n",
            "0.5541918755401901 0.4044116666913032\n",
            "0.5382022471910113 0.3897116744518281\n",
            "0.5245462402765774 0.3783459556102739\n",
            "0.5112359550561798 0.3683811187744139\n",
            "0.9794295592048401 0.626904637545326\n",
            "0.9712186689714779 0.6241000417470949\n",
            "0.9612791702679343 0.6214322269260881\n",
            "0.9462402765773552 0.6175307290554048\n",
            "0.9280898876404494 0.6135584047436758\n",
            "0.9089887640449438 0.6103259432911844\n",
            "0.8898876404494382 0.6066105598509312\n",
            "0.8741573033707866 0.6036495332717899\n",
            "0.8662057044079516 0.6019656598865993\n",
            "0.8559204840103717 0.5998629158735289\n",
            "0.9280898876404494 0.6135584047436758\n",
            "0.8559204840103717 0.5998629158735289\n",
            "0.819533275713051 0.5906816264986992\n",
            "0.8059636992221262 0.5865192627906803\n",
            "0.7926534140017286 0.5821736559271813\n",
            "0.7759723422644771 0.5767825549840925\n",
            "0.7669835782195332 0.5727229404449465\n",
            "0.7564390665514261 0.5679270720481868\n",
            "0.7460674157303371 0.5627137246727958\n",
            "0.7365600691443388 0.5579457968473436\n",
            "0.8559204840103717 0.5998629158735289\n",
            "0.8059636992221262 0.5865192627906803\n",
            "0.7759723422644771 0.5767825549840925\n",
            "0.7564390665514261 0.5679270720481868\n",
            "0.7365600691443388 0.5579457968473436\n",
            "0.7216076058772688 0.5478709858655966\n",
            "0.7108038029386344 0.5407977342605588\n",
            "0.6993949870354365 0.5322220087051392\n",
            "0.6876404494382022 0.5235491511225697\n",
            "0.678133102852204 0.515341255068781\n",
            "0.8059636992221262 0.5865192627906803\n",
            "0.7564390665514261 0.5679270720481868\n",
            "0.7216076058772688 0.5478709858655966\n",
            "0.6993949870354365 0.5322220087051392\n",
            "0.678133102852204 0.515341255068781\n",
            "0.6625756266205705 0.5004463791847229\n",
            "0.6498703543647364 0.4879067358374594\n",
            "0.6383751080380294 0.4748012387752533\n",
            "0.6365600691443388 0.47242528200149536\n",
            "0.6268798617113224 0.4617809683084486\n",
            "0.9952463267070009 0.37996964922544885\n",
            "0.9938634399308557 0.3601671300829119\n",
            "0.9904062229904926 0.32820280975103244\n",
            "0.9879861711322385 0.3099831349849719\n",
            "0.9855661192739844 0.29639860600233975\n",
            "0.980466724286949 0.28364285010099344\n",
            "0.9779602420051858 0.27711589077115056\n",
            "0.9761452031114952 0.2728562556505204\n",
            "0.9726879861711323 0.2648919313997044\n",
            "0.9693171996542783 0.2604184457659741\n",
            "0.9855661192739844 0.29639860600233975\n",
            "0.9693171996542783 0.2604184457659741\n",
            "0.9638720829732066 0.25620677977800355\n",
            "0.9548833189282627 0.2509285756945616\n",
            "0.9443388072601556 0.24608711898326874\n",
            "0.9433880726015558 0.24591107368469237\n",
            "0.92990492653414 0.24141485989093792\n",
            "0.9182368193604149 0.23688213080167722\n",
            "0.9120138288677615 0.23451568432152362\n",
            "0.8997407087294728 0.2309939488768578\n",
            "0.9693171996542783 0.2604184457659741\n",
            "0.9548833189282627 0.2509285756945616\n",
            "0.9433880726015558 0.24591107368469237\n",
            "0.9182368193604149 0.23688213080167722\n",
            "0.8997407087294728 0.2309939488768578\n",
            "0.8759723422644771 0.22622478350997116\n",
            "0.8496974935177183 0.22178590260445918\n",
            "0.8320656871218669 0.2189883923530579\n",
            "0.8191011235955056 0.2171574187278747\n",
            "0.8040622299049265 0.215455087274313\n",
            "0.9548833189282627 0.2509285756945616\n",
            "0.9182368193604149 0.23688213080167722\n",
            "0.8759723422644771 0.22622478350997116\n",
            "0.8320656871218669 0.2189883923530579\n",
            "0.8040622299049265 0.215455087274313\n",
            "0.7811581676750216 0.212673761844635\n",
            "0.7670700086430423 0.2109808285534382\n",
            "0.757389801210026 0.2097952961921692\n",
            "0.7393258426966293 0.20822098478674886\n",
            "0.7273120138288678 0.20687085390090942\n"
          ],
          "name": "stdout"
        }
      ]
    },
    {
      "metadata": {
        "id": "OYaqTtedNTmR",
        "colab_type": "code",
        "colab": {}
      },
      "cell_type": "code",
      "source": [
        "np.save(loc+\"false_negs\", false_negs)\n",
        "np.save(loc+\"taus\", taus)"
      ],
      "execution_count": 0,
      "outputs": []
    },
    {
      "metadata": {
        "id": "sPpIL6MEVW_A",
        "colab_type": "code",
        "outputId": "8311ee2d-0cbd-4127-91f3-3a3e8cef9d1c",
        "colab": {
          "base_uri": "https://localhost:8080/",
          "height": 1883
        }
      },
      "cell_type": "code",
      "source": [
        "LBF_backups = {}\n",
        "for i in range(3):\n",
        "  LBF_backups[i] = {}\n",
        "  for fpr in fprs:\n",
        "    for fpr_ratio in fpr_ratios:#\n",
        "      LBF_backups[i][(fpr,fpr_ratio)] = build_LBF_backup(false_negs[i][(fpr,fpr_ratio)], fpr, fpr*fpr_ratio)\n",
        "      if(LBF_backups[i][(fpr,fpr_ratio)] =='error'):\n",
        "        continue\n",
        "      fpr0, BF_size, t = test_LBF(models[i], LBF_backups[i][(fpr,fpr_ratio)], taus[i][(fpr,fpr_ratio)])\n",
        "      print(fpr, fpr0, BF_size, t)\n",
        "      LBF = {\"FPR\": fpr0, \"size\": BF_size+model_sizes[i], \"time\": t}\n",
        "      np.save(loc+\"LBF_hid\"+str(h_sizes[i])+\"_FPR\"+str(fpr)+\"_ratio\"+str(fpr_ratio), LBF)"
      ],
      "execution_count": 0,
      "outputs": [
        {
          "output_type": "stream",
          "text": [
            "0.001 0.0009098800422519008 20561.125 0.00012543191547438284\n",
            "0.001 0.0007111706077371179 20227.25 0.00012240827059276267\n",
            "0.001 0.0009517136074129077 20222.0 0.00012625399665868825\n",
            "0.001 0.0009098800422519008 20430.875 0.00012604719533993795\n",
            "0.001 0.0014641747806352426 20343.5 0.00012660770603170637\n",
            "0.001 0.00102492234644467 20702.375 0.0001255127339793123\n",
            "0.001 0.0010772143028959286 21138.375 0.00012654253408109112\n",
            "0.001 0.0011295062593471871 21616.5 0.0001242488564380432\n",
            "0.001 0.001255006954830208 23030.625 0.00012447871491818688\n",
            "0.005 0.004601692167710763 14462.25 0.0001244083665139053\n",
            "0.005 0.007373165859627472 13594.125 0.00012424259282936795\n",
            "0.005 0.004737651254484035 13318.75 0.00012380301566496837\n",
            "0.005 0.005145528514803853 12928.25 0.00012506430747287906\n",
            "0.005 0.005291945992867377 13013.625 0.00012468258391058282\n",
            "0.005 0.005093236558352594 13193.625 0.00012407563973125437\n",
            "0.005 0.005176903688674608 13429.875 0.00012398807637701496\n",
            "0.005 0.005448821862221153 14141.125 0.0001252843915318416\n",
            "0.005 0.005354696340608887 15324.625 0.0001232618169354571\n",
            "0.01 0.010040055638641665 11597.25 0.00012454643270656384\n",
            "0.01 0.010081889203802671 10744.625 0.00012457515504268264\n",
            "0.01 0.009694928726063357 10532.75 0.00012485890499348658\n",
            "0.01 0.010583891985734754 10471.0 0.0001246370106718257\n",
            "0.01 0.010657100724766517 10553.125 0.0001242870514848934\n",
            "0.01 0.009904096551868392 10701.875 0.00012534555397499274\n",
            "0.01 0.010102805986383174 10938.125 0.00012481917147269024\n",
            "0.01 0.010458391290251733 11443.875 0.00012266324335100242\n",
            "0.01 0.010207389899285692 12463.375 0.00012453363370046108\n",
            "0.02 0.02466088666241359 8939.375 0.00012575698230247545\n",
            "0.02 0.020289279103088365 8461.875 0.00012421454622491752\n",
            "0.02 0.020676239580827677 8271.0 0.00012534028276928432\n",
            "0.02 0.020477530146312893 8140.125 0.00012491134276834364\n",
            "0.02 0.019944152190510055 8141.375 0.00012337190634095942\n",
            "0.02 0.019044730539548405 8262.5 0.00012531040844781204\n",
            "0.02 0.019682692408253762 8511.0 0.0001252047599209127\n",
            "0.02 0.019808193103736785 8919.0 0.00012713790105696446\n",
            "0.02 0.020069652885993078 9784.0 0.0001235662203379558\n",
            "0.001 0.0010772143028959286 20676.125 0.00012365468134312003\n",
            "0.001 0.0013491324764424736 20846.875 0.00012414223296250055\n",
            "0.001 0.0008889632596713973 21019.625 0.00012597627592992922\n",
            "0.001 0.0007948377380591318 21129.5 0.0001238064566601801\n",
            "0.001 0.001098131085476432 21233.375 0.0001236009793765439\n",
            "0.001 0.0008471296945103905 21406.625 0.000124230177818383\n",
            "0.001 0.0008889632596713973 21727.125 0.0001258420422080246\n",
            "0.001 0.0010458391290251734 22409.75 0.00012417168089978356\n",
            "0.001 0.0009307968248324043 24013.0 0.00012429011097846212\n",
            "0.005 0.004423899515776483 15094.875 0.0001253873271581682\n",
            "0.005 0.005030486210611084 14223.25 0.00012780514743064111\n",
            "0.005 0.004769026428354791 13946.75 0.00012440926167135531\n",
            "0.005 0.004507566646098497 14088.625 0.00012505637572956854\n",
            "0.005 0.004371607559325225 14289.75 0.00012271563374983844\n",
            "0.005 0.0047062760806132805 14509.125 0.00012464567050977525\n",
            "0.005 0.004789943210935294 15004.0 0.00012714977498391971\n",
            "0.005 0.004507566646098497 15719.875 0.00012352752908962217\n",
            "0.005 0.004863151949967056 17059.875 0.00012514321348264373\n",
            "0.01 0.009747220682514615 12133.875 0.00012480289656272868\n",
            "0.01 0.012999780373782905 11709.0 0.00012655152056423828\n",
            "0.01 0.01031197381218821 11582.875 0.00012445831081397122\n",
            "0.01 0.009266134683163035 11640.0 0.00012466494257643574\n",
            "0.01 0.010040055638641665 11736.125 0.0001245300430967619\n",
            "0.01 0.010008680464770908 11980.375 0.00012624344177989747\n",
            "0.01 0.010144639551544182 12414.375 0.00012385201992503805\n",
            "0.01 0.010542058420573748 13066.625 0.00012568140009460734\n",
            "0.01 0.010238765073156447 14279.75 0.00012304066566928398\n",
            "0.02 0.022464624491460722 9741.625 0.00012630219053945082\n",
            "0.02 0.020854032232761957 9406.625 0.0001240604818979992\n",
            "0.02 0.01935848227825596 9259.25 0.00012468963545729208\n",
            "0.02 0.018971521800516644 9294.5 0.0001249548788381964\n",
            "0.02 0.019452607799868224 9380.0 0.00012687282473887112\n",
            "0.02 0.019327107104385205 9605.75 0.00012427565630509805\n",
            "0.02 0.01973498436470502 9980.375 0.00012415021457530689\n",
            "0.02 0.019682692408253762 10579.125 0.00012414178413703815\n",
            "0.02 0.017873390715040214 11873.375 0.00012415822860328553\n",
            "0.001 0.0011085894767666837 21010.0 0.000126129475021095\n",
            "0.001 0.0011190478680569355 21332.875 0.00012252018023486247\n",
            "0.001 0.000826212911929887 21656.5 0.00012346947600953555\n",
            "0.001 0.0007530041728981248 22061.75 0.00012479075583397077\n",
            "0.001 0.0007948377380591318 22548.25 0.00012583417280158385\n",
            "0.001 0.000826212911929887 23089.875 0.00012477664526012788\n",
            "0.001 0.0009098800422519008 23877.5 0.00012360059787490084\n",
            "0.001 0.0008052961293493835 25024.25 0.00012452746983077746\n",
            "0.001 0.0010144639551544182 26964.875 0.0001262989714634955\n",
            "0.005 0.004821318384806049 16029.75 0.00012355694959868246\n",
            "0.005 0.005438363470930902 16107.625 0.00012430197243804342\n",
            "0.005 0.0047062760806132805 16403.125 0.0001251551971224898\n",
            "0.005 0.004925902297708566 16691.875 0.00012774573291331854\n",
            "0.005 0.004852693558676804 17024.375 0.00012429512036931745\n",
            "0.005 0.005260570818996622 17639.5 0.00012326405856929432\n",
            "0.005 0.0051141533409330975 18191.25 0.00012429427757483806\n",
            "0.005 0.004967735862869574 19082.25 0.00012633917874450213\n",
            "0.005 0.005406988297060146 20854.5 0.00012562142454545676\n",
            "0.01 0.012560527939592331 13741.5 0.0001250600037353896\n",
            "0.01 0.011127728332827845 13872.5 0.00012496723649926114\n",
            "0.01 0.010207389899285692 14081.875 0.00012462393987697071\n",
            "0.01 0.009904096551868392 14129.75 0.00012515167384260996\n",
            "0.01 0.009809971030256126 14336.25 0.00012342708444461188\n",
            "0.01 0.010353807377349216 14543.25 0.00012416379403901927\n",
            "0.01 0.010249223464446698 14840.25 0.00012416634985068015\n",
            "0.01 0.01001913885606116 15545.375 0.00012411603900981994\n",
            "0.01 0.009883179769287887 17009.75 0.00012532305535195253\n",
            "0.02 0.02056119727663491 11541.625 0.00012466143924435422\n",
            "0.02 0.02153382766662832 11418.75 0.00012439233845794805\n",
            "0.02 0.018323101540521036 11239.875 0.00012646323160883465\n",
            "0.02 0.02256920840436324 11057.625 0.00012439398913825976\n",
            "0.02 0.01949444136502923 11121.875 0.0001254280256537087\n",
            "0.02 0.022224081491784932 11325.0 0.00012391504499385814\n",
            "0.02 0.02045661336373239 11780.375 0.0001263182136084585\n",
            "0.02 0.019954610581800307 12551.375 0.0001247376722491428\n",
            "0.02 0.020791281885020448 13790.125 0.00012379902610530258\n"
          ],
          "name": "stdout"
        }
      ]
    },
    {
      "metadata": {
        "id": "79ihIfTvvqJb",
        "colab_type": "code",
        "colab": {}
      },
      "cell_type": "code",
      "source": [
        "fnrs = {}\n",
        "for i in range(3):\n",
        "  fnrs[i] = pd.DataFrame(index=fpr_ratios, columns=fprs)\n",
        "  for fpr in fprs:\n",
        "    for fpr_ratio in fpr_ratios:\n",
        "      fnrs[i].loc[fpr_ratio,fpr] = len(false_negs[i][(fpr,fpr_ratio)])/len(phishing_URLs)"
      ],
      "execution_count": 0,
      "outputs": []
    },
    {
      "metadata": {
        "id": "l5BO4R76ex2f",
        "colab_type": "code",
        "outputId": "5ca926e4-5fc2-46dd-d589-8242fe7a86e2",
        "colab": {
          "base_uri": "https://localhost:8080/",
          "height": 2091
        }
      },
      "cell_type": "code",
      "source": [
        "true_fpr_LBF = {}\n",
        "sizes_LBF = {}\n",
        "times_LBF = {}\n",
        "for i in range(3):\n",
        "  true_fpr_LBF[i] = pd.DataFrame(index = fpr_ratios, columns = fprs)\n",
        "  sizes_LBF[i] = pd.DataFrame(index = fpr_ratios, columns = fprs)\n",
        "  times_LBF[i] = pd.DataFrame(index = fpr_ratios, columns = fprs)\n",
        "  for fpr in fprs:\n",
        "    for fpr_ratio in fpr_ratios:\n",
        "      try:\n",
        "        LBF = np.load(loc+\"LBF_hid\"+str(h_sizes[i])+\"_FPR\"+str(fpr)+\"_ratio\"+str(fpr_ratio)+\".npy\").item()\n",
        "        true_fpr_LBF[i].loc[fpr_ratio,fpr] = LBF['FPR']\n",
        "        sizes_LBF[i].loc[fpr_ratio,fpr] = LBF['size']\n",
        "        times_LBF[i].loc[fpr_ratio,fpr] = LBF['time']\n",
        "        print(LBF['FPR'], LBF['size'], LBF['time'])\n",
        "      except:\n",
        "        print(\"error\")\n",
        "        continue\n"
      ],
      "execution_count": 0,
      "outputs": [
        {
          "output_type": "stream",
          "text": [
            "0.0009098800422519008 29227.125 0.00012543191547438284\n",
            "0.0007111706077371179 28893.25 0.00012240827059276267\n",
            "0.0009517136074129077 28888.0 0.00012625399665868825\n",
            "0.0009098800422519008 29096.875 0.00012604719533993795\n",
            "0.0014641747806352426 29009.5 0.00012660770603170637\n",
            "0.00102492234644467 29368.375 0.0001255127339793123\n",
            "0.0010772143028959286 29804.375 0.00012654253408109112\n",
            "0.0011295062593471871 30282.5 0.0001242488564380432\n",
            "0.001255006954830208 31696.625 0.00012447871491818688\n",
            "error\n",
            "0.004601692167710763 23128.25 0.0001244083665139053\n",
            "0.007373165859627472 22260.125 0.00012424259282936795\n",
            "0.004737651254484035 21984.75 0.00012380301566496837\n",
            "0.005145528514803853 21594.25 0.00012506430747287906\n",
            "0.005291945992867377 21679.625 0.00012468258391058282\n",
            "0.005093236558352594 21859.625 0.00012407563973125437\n",
            "0.005176903688674608 22095.875 0.00012398807637701496\n",
            "0.005448821862221153 22807.125 0.0001252843915318416\n",
            "0.005354696340608887 23990.625 0.0001232618169354571\n",
            "error\n",
            "0.010040055638641665 20263.25 0.00012454643270656384\n",
            "0.010081889203802671 19410.625 0.00012457515504268264\n",
            "0.009694928726063357 19198.75 0.00012485890499348658\n",
            "0.010583891985734754 19137.0 0.0001246370106718257\n",
            "0.010657100724766517 19219.125 0.0001242870514848934\n",
            "0.009904096551868392 19367.875 0.00012534555397499274\n",
            "0.010102805986383174 19604.125 0.00012481917147269024\n",
            "0.010458391290251733 20109.875 0.00012266324335100242\n",
            "0.010207389899285692 21129.375 0.00012453363370046108\n",
            "error\n",
            "0.02466088666241359 17605.375 0.00012575698230247545\n",
            "0.020289279103088365 17127.875 0.00012421454622491752\n",
            "0.020676239580827677 16937.0 0.00012534028276928432\n",
            "0.020477530146312893 16806.125 0.00012491134276834364\n",
            "0.019944152190510055 16807.375 0.00012337190634095942\n",
            "0.019044730539548405 16928.5 0.00012531040844781204\n",
            "0.019682692408253762 17177.0 0.0001252047599209127\n",
            "0.019808193103736785 17585.0 0.00012713790105696446\n",
            "0.020069652885993078 18450.0 0.0001235662203379558\n",
            "error\n",
            "0.0010772143028959286 26300.125 0.00012365468134312003\n",
            "0.0013491324764424736 26470.875 0.00012414223296250055\n",
            "0.0008889632596713973 26643.625 0.00012597627592992922\n",
            "0.0007948377380591318 26753.5 0.0001238064566601801\n",
            "0.001098131085476432 26857.375 0.0001236009793765439\n",
            "0.0008471296945103905 27030.625 0.000124230177818383\n",
            "0.0008889632596713973 27351.125 0.0001258420422080246\n",
            "0.0010458391290251734 28033.75 0.00012417168089978356\n",
            "0.0009307968248324043 29637.0 0.00012429011097846212\n",
            "error\n",
            "0.004423899515776483 20718.875 0.0001253873271581682\n",
            "0.005030486210611084 19847.25 0.00012780514743064111\n",
            "0.004769026428354791 19570.75 0.00012440926167135531\n",
            "0.004507566646098497 19712.625 0.00012505637572956854\n",
            "0.004371607559325225 19913.75 0.00012271563374983844\n",
            "0.0047062760806132805 20133.125 0.00012464567050977525\n",
            "0.004789943210935294 20628.0 0.00012714977498391971\n",
            "0.004507566646098497 21343.875 0.00012352752908962217\n",
            "0.004863151949967056 22683.875 0.00012514321348264373\n",
            "error\n",
            "0.009747220682514615 17757.875 0.00012480289656272868\n",
            "0.012999780373782905 17333.0 0.00012655152056423828\n",
            "0.01031197381218821 17206.875 0.00012445831081397122\n",
            "0.009266134683163035 17264.0 0.00012466494257643574\n",
            "0.010040055638641665 17360.125 0.0001245300430967619\n",
            "0.010008680464770908 17604.375 0.00012624344177989747\n",
            "0.010144639551544182 18038.375 0.00012385201992503805\n",
            "0.010542058420573748 18690.625 0.00012568140009460734\n",
            "0.010238765073156447 19903.75 0.00012304066566928398\n",
            "error\n",
            "0.022464624491460722 15365.625 0.00012630219053945082\n",
            "0.020854032232761957 15030.625 0.0001240604818979992\n",
            "0.01935848227825596 14883.25 0.00012468963545729208\n",
            "0.018971521800516644 14918.5 0.0001249548788381964\n",
            "0.019452607799868224 15004.0 0.00012687282473887112\n",
            "0.019327107104385205 15229.75 0.00012427565630509805\n",
            "0.01973498436470502 15604.375 0.00012415021457530689\n",
            "0.019682692408253762 16203.125 0.00012414178413703815\n",
            "0.017873390715040214 17497.375 0.00012415822860328553\n",
            "error\n",
            "0.0011085894767666837 25686.0 0.000126129475021095\n",
            "0.0011190478680569355 26008.875 0.00012252018023486247\n",
            "0.000826212911929887 26332.5 0.00012346947600953555\n",
            "0.0007530041728981248 26737.75 0.00012479075583397077\n",
            "0.0007948377380591318 27224.25 0.00012583417280158385\n",
            "0.000826212911929887 27765.875 0.00012477664526012788\n",
            "0.0009098800422519008 28553.5 0.00012360059787490084\n",
            "0.0008052961293493835 29700.25 0.00012452746983077746\n",
            "0.0010144639551544182 31640.875 0.0001262989714634955\n",
            "error\n",
            "0.004821318384806049 20705.75 0.00012355694959868246\n",
            "0.005438363470930902 20783.625 0.00012430197243804342\n",
            "0.0047062760806132805 21079.125 0.0001251551971224898\n",
            "0.004925902297708566 21367.875 0.00012774573291331854\n",
            "0.004852693558676804 21700.375 0.00012429512036931745\n",
            "0.005260570818996622 22315.5 0.00012326405856929432\n",
            "0.0051141533409330975 22867.25 0.00012429427757483806\n",
            "0.004967735862869574 23758.25 0.00012633917874450213\n",
            "0.005406988297060146 25530.5 0.00012562142454545676\n",
            "error\n",
            "0.012560527939592331 18417.5 0.0001250600037353896\n",
            "0.011127728332827845 18548.5 0.00012496723649926114\n",
            "0.010207389899285692 18757.875 0.00012462393987697071\n",
            "0.009904096551868392 18805.75 0.00012515167384260996\n",
            "0.009809971030256126 19012.25 0.00012342708444461188\n",
            "0.010353807377349216 19219.25 0.00012416379403901927\n",
            "0.010249223464446698 19516.25 0.00012416634985068015\n",
            "0.01001913885606116 20221.375 0.00012411603900981994\n",
            "0.009883179769287887 21685.75 0.00012532305535195253\n",
            "error\n",
            "0.02056119727663491 16217.625 0.00012466143924435422\n",
            "0.02153382766662832 16094.75 0.00012439233845794805\n",
            "0.018323101540521036 15915.875 0.00012646323160883465\n",
            "0.02256920840436324 15733.625 0.00012439398913825976\n",
            "0.01949444136502923 15797.875 0.0001254280256537087\n",
            "0.022224081491784932 16001.0 0.00012391504499385814\n",
            "0.02045661336373239 16456.375 0.0001263182136084585\n",
            "0.019954610581800307 17227.375 0.0001247376722491428\n",
            "0.020791281885020448 18466.125 0.00012379902610530258\n",
            "error\n"
          ],
          "name": "stdout"
        }
      ]
    },
    {
      "metadata": {
        "id": "S8kiqjdpZt3A",
        "colab_type": "code",
        "colab": {}
      },
      "cell_type": "code",
      "source": [
        "plot_loc = \"/content/gdrive/My Drive/College/current classes/CS 222 fall 2018/CS222 Project/plots/\""
      ],
      "execution_count": 0,
      "outputs": []
    },
    {
      "metadata": {
        "id": "DitHYBkDv1jA",
        "colab_type": "code",
        "outputId": "bb561277-cdf1-457e-c56c-2520c394a2b9",
        "colab": {
          "base_uri": "https://localhost:8080/",
          "height": 221
        }
      },
      "cell_type": "code",
      "source": [
        "f,ax = plt.subplots(1,3,figsize=(12,3))\n",
        "for i in range(3):\n",
        "  fnrs[i].plot(ax=ax[i])\n",
        "  ax[i].set_xlabel(\"Classifier FPR ratio \"+r\"$\\epsilon_\\tau/\\epsilon$\")\n",
        "  ax[i].set_ylabel(\"Classifier False Negative Rate\")\n",
        "  ax[i].set_title(\"LBF with \"+str(h_sizes[i])+\" dimensional GRU\")\n",
        "  ax[i].legend(fontsize='xx-small')\n",
        "plt.tight_layout()\n",
        "plt.show()\n",
        "f.savefig(plot_loc+\"LBF_classifier_FNR.png\")\n",
        "# FPR_tau/FPR forced to stay between 0 and 1, "
      ],
      "execution_count": 0,
      "outputs": [
        {
          "output_type": "display_data",
          "data": {
            "image/png": "[encoded data removed]",
            "text/plain": [
              "<matplotlib.figure.Figure at 0x7fb3bd2cc908>"
            ]
          },
          "metadata": {
            "tags": []
          }
        }
      ]
    },
    {
      "metadata": {
        "id": "KS1bR-N7XO9P",
        "colab_type": "code",
        "outputId": "bc62b8b9-ee14-4b98-db3a-6a2ad4e9df18",
        "colab": {
          "base_uri": "https://localhost:8080/",
          "height": 221
        }
      },
      "cell_type": "code",
      "source": [
        "f, ax = plt.subplots(1,3,figsize=(12,3))\n",
        "for i in range(3):\n",
        "  true_fpr_LBF[i].plot(ax=ax[i])\n",
        "  ax[i].set_xlabel(\"Classifier FPR ratio \"+r\"$\\epsilon_\\tau/\\epsilon$\")\n",
        "  ax[i].set_ylabel(\"Overall FPR\")\n",
        "  ax[i].set_title(\"LBF with \"+str(h_sizes[i])+\" dimensional GRU\")\n",
        "  ax[i].legend(fontsize='xx-small', loc='upper right')\n",
        "plt.tight_layout()\n",
        "plt.show()\n",
        "f.savefig(plot_loc+\"LBF_fpr.png\")\n",
        "#regardless of what the desired FPR is, the curve looks the same??"
      ],
      "execution_count": 0,
      "outputs": [
        {
          "output_type": "display_data",
          "data": {
            "image/png": "[encoded data removed]",
            "text/plain": [
              "<matplotlib.figure.Figure at 0x7fb3d4a8d5f8>"
            ]
          },
          "metadata": {
            "tags": []
          }
        }
      ]
    },
    {
      "metadata": {
        "id": "h60T3arRYVkz",
        "colab_type": "code",
        "outputId": "a42ff5a7-9e42-43fe-c239-88d44e9bffdf",
        "colab": {
          "base_uri": "https://localhost:8080/",
          "height": 221
        }
      },
      "cell_type": "code",
      "source": [
        "f, ax = plt.subplots(1,3,figsize=(12,3))\n",
        "for i in range(3):\n",
        "  sizes_LBF[i].plot(ax=ax[i])\n",
        "  ax[i].set_xlabel(\"Classifier FPR ratio \"+r\"$\\epsilon_\\tau/\\epsilon$\")\n",
        "  ax[i].set_ylabel(\"Total Size of LBF\")\n",
        "  ax[i].set_title(\"LBF with \"+str(h_sizes[i])+\" dimensional GRU\")\n",
        "  ax[i].legend(fontsize='xx-small', loc='upper left')\n",
        "plt.tight_layout()\n",
        "plt.show()\n",
        "f.savefig(plot_loc+\"LBF_size.png\")\n",
        "# seems most optimal at 0.5"
      ],
      "execution_count": 0,
      "outputs": [
        {
          "output_type": "display_data",
          "data": {
            "image/png": "[encoded data removed]",
            "text/plain": [
              "<matplotlib.figure.Figure at 0x7fb3bd1817b8>"
            ]
          },
          "metadata": {
            "tags": []
          }
        }
      ]
    },
    {
      "metadata": {
        "id": "RkeB2L-UXxvZ",
        "colab_type": "text"
      },
      "cell_type": "markdown",
      "source": [
        "# $\\tau$ analysis for SLBF"
      ]
    },
    {
      "metadata": {
        "id": "kxM8obK41gHT",
        "colab_type": "code",
        "outputId": "d10a4750-ed0d-4fa6-a5be-8603b8fe5c0d",
        "colab": {
          "base_uri": "https://localhost:8080/",
          "height": 2091
        }
      },
      "cell_type": "code",
      "source": [
        "fpr_ratios2 = [1.*i for i in range(1,11)]\n",
        "for i in range(3):\n",
        "  for fpr in fprs:\n",
        "    for fpr_ratio in fpr_ratios2:\n",
        "      false_negs[i][(fpr,fpr_ratio)], taus[i][(fpr,fpr_ratio)] = build_LBF_classifier(models[i], fpr*fpr_ratio)\n",
        "      print(len(false_negs[i][(fpr,fpr_ratio)])/len(phishing_URLs), taus[i][(fpr,fpr_ratio)])"
      ],
      "execution_count": 0,
      "outputs": [
        {
          "output_type": "stream",
          "text": [
            "0.8180639585133967 0.7020724827051188\n",
            "0.7395851339671564 0.6206340336799692\n",
            "0.7056179775280899 0.5754335978627197\n",
            "0.680466724286949 0.5414081406593316\n",
            "0.6623163353500432 0.5175028517842295\n",
            "0.6445980985306828 0.49808899015188407\n",
            "0.6262748487467589 0.47742681846022494\n",
            "0.6125324114088159 0.4632381570339203\n",
            "0.6001728608470182 0.45183430910110434\n",
            "0.5885911840968021 0.4393618702888489\n",
            "0.6623163353500432 0.5175028517842295\n",
            "0.5885911840968021 0.4393618702888489\n",
            "0.545894554883319 0.396639709174633\n",
            "0.5112359550561798 0.3683811187744139\n",
            "0.47994814174589456 0.346376933157444\n",
            "0.45073465859982714 0.3276238515973091\n",
            "0.4222990492653414 0.3122225917875766\n",
            "0.4024200518582541 0.3019768893718719\n",
            "0.38133102852203976 0.2909032642841339\n",
            "0.37536732929991357 0.28748245537281036\n",
            "0.5885911840968021 0.4393618702888489\n",
            "0.5112359550561798 0.3683811187744139\n",
            "0.45073465859982714 0.3276238515973091\n",
            "0.4024200518582541 0.3019768893718719\n",
            "0.37536732929991357 0.28748245537281036\n",
            "0.33465859982713914 0.27027056813239997\n",
            "0.3083837510803803 0.2584512040019036\n",
            "0.28599827139152983 0.24786648154258734\n",
            "0.2719965427830596 0.24103319644927979\n",
            "0.2571305099394987 0.2337900549173355\n",
            "0.5112359550561798 0.3683811187744139\n",
            "0.4024200518582541 0.3019768893718719\n",
            "0.33465859982713914 0.27027056813239997\n",
            "0.28599827139152983 0.24786648154258734\n",
            "0.2571305099394987 0.2337900549173355\n",
            "0.23007778738115817 0.22120890021324158\n",
            "0.20509939498703544 0.20959149003028862\n",
            "0.18245462402765775 0.19836928844451895\n",
            "0.1690579083837511 0.19127424210309982\n",
            "0.154019014693172 0.18371133506298065\n",
            "0.8559204840103717 0.5998629158735289\n",
            "0.8059636992221262 0.5865192627906803\n",
            "0.7759723422644771 0.5767825549840925\n",
            "0.7564390665514261 0.5679270720481868\n",
            "0.7365600691443388 0.5579457968473436\n",
            "0.7216076058772688 0.5478709858655966\n",
            "0.7108038029386344 0.5407977342605588\n",
            "0.6993949870354365 0.5322220087051392\n",
            "0.6876404494382022 0.5235491511225697\n",
            "0.678133102852204 0.515341255068781\n",
            "0.7365600691443388 0.5579457968473436\n",
            "0.678133102852204 0.515341255068781\n",
            "0.6438202247191012 0.4801698625087738\n",
            "0.6268798617113224 0.4617809683084486\n",
            "0.6038029386343993 0.4327380955219269\n",
            "0.592048401037165 0.4179929181933413\n",
            "0.5684528954191875 0.38571882918476863\n",
            "0.5451166810717373 0.358491450548172\n",
            "0.5347450302506482 0.348014660179615\n",
            "0.5226447709593777 0.3323352038860321\n",
            "0.678133102852204 0.515341255068781\n",
            "0.6268798617113224 0.4617809683084486\n",
            "0.592048401037165 0.4179929181933413\n",
            "0.5451166810717373 0.358491450548172\n",
            "0.5226447709593777 0.3323352038860321\n",
            "0.49636992221261883 0.3054981976747511\n",
            "0.48357821953327573 0.2941936254501343\n",
            "0.4636127917026793 0.27836117148399353\n",
            "0.43889369057908384 0.2610608220100403\n",
            "0.4162489196197061 0.24642416834831238\n",
            "0.6268798617113224 0.4617809683084486\n",
            "0.5451166810717373 0.358491450548172\n",
            "0.49636992221261883 0.3054981976747511\n",
            "0.4636127917026793 0.27836117148399353\n",
            "0.4162489196197061 0.24642416834831238\n",
            "0.3822817631806396 0.22975896298885345\n",
            "0.3529818496110631 0.21661065369844432\n",
            "0.32489196197061365 0.2055874913930892\n",
            "0.29394987035436476 0.19514593482017517\n",
            "0.2718236819360415 0.18733902275562286\n",
            "0.9693171996542783 0.2604184457659741\n",
            "0.9548833189282627 0.2509285756945616\n",
            "0.9433880726015558 0.24591107368469237\n",
            "0.9182368193604149 0.23688213080167722\n",
            "0.8997407087294728 0.2309939488768578\n",
            "0.8759723422644771 0.22622478350997116\n",
            "0.8496974935177183 0.22178590260445918\n",
            "0.8320656871218669 0.2189883923530579\n",
            "0.8191011235955056 0.2171574187278747\n",
            "0.8040622299049265 0.215455087274313\n",
            "0.8997407087294728 0.2309939488768578\n",
            "0.8040622299049265 0.215455087274313\n",
            "0.7608470181503889 0.21028876304626465\n",
            "0.7273120138288678 0.20687085390090942\n",
            "0.6953327571305099 0.20328416675329208\n",
            "0.6868625756266206 0.20240605995059013\n",
            "0.6679343128781331 0.20072182565927504\n",
            "0.6328435609334486 0.19862911999225613\n",
            "0.5949870354364737 0.1965135522186756\n",
            "0.5612791702679343 0.19459665566682816\n",
            "0.8040622299049265 0.215455087274313\n",
            "0.7273120138288678 0.20687085390090942\n",
            "0.6868625756266206 0.20240605995059013\n",
            "0.6328435609334486 0.19862911999225613\n",
            "0.5612791702679343 0.19459665566682816\n",
            "0.5197061365600691 0.1918657273054123\n",
            "0.490838375108038 0.18977898806333543\n",
            "0.46560069144338806 0.18721036612987518\n",
            "0.4527225583405359 0.18562255799770355\n",
            "0.4426101987899741 0.18443235754966736\n",
            "0.7273120138288678 0.20687085390090942\n",
            "0.6328435609334486 0.19862911999225613\n",
            "0.5197061365600691 0.1918657273054123\n",
            "0.46560069144338806 0.18721036612987518\n",
            "0.4426101987899741 0.18443235754966736\n",
            "0.41936041486603287 0.18117811083793642\n",
            "0.39377700950734656 0.17801009863615036\n",
            "0.3672428694900605 0.17532303333282467\n",
            "0.33967156439066554 0.17262078672647474\n",
            "0.31598962834917893 0.170122891664505\n"
          ],
          "name": "stdout"
        }
      ]
    },
    {
      "metadata": {
        "id": "7nFKQ5xHPHzH",
        "colab_type": "code",
        "colab": {}
      },
      "cell_type": "code",
      "source": [
        "np.save(loc+\"false_negs2\", false_negs)\n",
        "np.save(loc+\"taus2\", taus)"
      ],
      "execution_count": 0,
      "outputs": []
    },
    {
      "metadata": {
        "id": "_FgSypqOX0eo",
        "colab_type": "code",
        "outputId": "f6c691e4-bbce-487d-c45d-8b1c5a80e0f3",
        "colab": {
          "base_uri": "https://localhost:8080/",
          "height": 3957
        }
      },
      "cell_type": "code",
      "source": [
        "SLBF_initials = {}\n",
        "SLBF_backups = {}\n",
        "for i in range(3):\n",
        "  SLBF_initials[i] = {}\n",
        "  SLBF_backups[i] = {}\n",
        "  for fpr, fpr_ratio in false_negs[i].keys():\n",
        "    c=(1.-len(false_negs[i][(fpr,fpr_ratio)])/len(phishing_URLs))\n",
        "    if(fpr_ratio < c or fpr*fpr_ratio > c):\n",
        "      print(fpr_ratio, fpr, \"bad fpr_tau\")\n",
        "      continue\n",
        "    SLBF_initials[i][(fpr,fpr_ratio)] = build_SLBF_initial(false_negs[i][(fpr,fpr_ratio)], fpr, fpr*fpr_ratio)\n",
        "    SLBF_backups[i][(fpr,fpr_ratio)] = build_SLBF_backup(false_negs[i][(fpr,fpr_ratio)], fpr*fpr_ratio)\n",
        "    if(SLBF_backups[i][(fpr,fpr_ratio)] =='error' or SLBF_initials[i][(fpr,fpr_ratio)]=='error'):\n",
        "      continue\n",
        "    fpr0, BF_size, t = test_SLBF(SLBF_initials[i][(fpr,fpr_ratio)], models[i], SLBF_backups[i][(fpr,fpr_ratio)], taus[i][(fpr,fpr_ratio)])\n",
        "    print(fpr, fpr0, BF_size, t)\n",
        "    SLBF = {\"FPR\": fpr0, \"size\": BF_size+model_sizes[i], \"time\": t}\n",
        "    np.save(loc+\"SLBF_hid\"+str(h_sizes[i])+\"_FPR\"+str(fpr)+\"_ratio\"+str(fpr_ratio), SLBF)\n",
        "\n",
        "# for fpr, fpr_ratio in false_negs2.keys():\n",
        "#   c=(1.-len(false_negs2[(fpr,fpr_ratio)])/len(phishing_URLs))\n",
        "#   if(fpr_ratio < c or fpr*fpr_ratio > c):\n",
        "#     print(fpr_ratio, fpr, \"bad fpr_tau\")\n",
        "#     continue\n",
        "#   SLBF_keys += [(fpr,fpr_ratio)]\n",
        "#   SLBF_initials[(fpr,fpr_ratio)] = build_SLBF_initial(false_negs2[(fpr,fpr_ratio)], fpr, fpr*fpr_ratio)\n",
        "#   SLBF_backups[(fpr,fpr_ratio)] = build_SLBF_backup(false_negs2[(fpr,fpr_ratio)], fpr*fpr_ratio)\n",
        "#   if(SLBF_backups[(fpr,fpr_ratio)] =='error' or SLBF_initials[(fpr,fpr_ratio)]=='error'):\n",
        "#     continue\n",
        "#   fpr0, BF_size, t = test_SLBF(SLBF_initials[(fpr,fpr_ratio)], models[2], SLBF_backups[(fpr,fpr_ratio)], taus[(fpr,fpr_ratio)])\n",
        "#   print(fpr, fpr0, BF_size, t)\n",
        "#   SLBF = {\"FPR\": fpr0, \"size\": BF_size+model_sizes[2], \"time\": t}\n",
        "#   np.save(loc+\"SLBF_hid\"+str(h_sizes[2])+\"_FPR\"+str(fpr)+\"_ratio\"+str(fpr_ratio), SLBF)"
      ],
      "execution_count": 0,
      "outputs": [
        {
          "output_type": "stream",
          "text": [
            "0.001 0.000899421650961649 20435.0 0.0001211437472415227\n",
            "0.001 0.0009517136074129077 19978.375 0.00012171300753633311\n",
            "0.001 0.0011608814332179423 19759.875 0.00012117670848478637\n",
            "0.001 0.0011295062593471871 19665.125 0.00012018103158552388\n",
            "0.001 0.0008157545206396352 19305.125 0.00012046508823372713\n",
            "0.001 0.0006902538251566144 19201.625 0.0001215954601477306\n",
            "0.001 0.0009726303899934112 19043.5 0.00012045212964523773\n",
            "0.001 0.00132821569386197 18733.375 0.0001224477797008278\n",
            "0.001 0.000941255216122656 18587.25 0.00012103759503271556\n",
            "0.001 0.0010144639551544182 18435.75 0.00012059039282240478\n",
            "0.1 0.005 bad fpr_tau\n",
            "0.005 0.0064005354696340605 13591.0 0.00012472427979603977\n",
            "0.005 0.006745662382212368 13266.625 0.00012849049892477602\n",
            "0.005 0.007822876685108296 12799.0 0.00012490547063521057\n",
            "0.005 0.009046508466067749 12706.625 0.00012589022112793842\n",
            "0.005 0.004957277471579322 12619.0 0.00012379065301695405\n",
            "0.005 0.004769026428354791 12477.125 0.00012378938134481056\n",
            "0.005 0.005271029210286874 12515.625 0.00012214922349671424\n",
            "0.005 0.005365154731899139 12483.5 0.00012593164522464313\n",
            "0.005 0.005678906470606692 12478.0 0.00012258309808426657\n",
            "0.1 0.01 bad fpr_tau\n",
            "0.2 0.01 bad fpr_tau\n",
            "0.01 0.009757679073804867 10532.5 0.00012610418370628877\n",
            "0.01 0.01291611324346089 10429.125 0.00012613168423975993\n",
            "0.01 0.015060083457962496 10391.5 0.0001283173645026553\n",
            "0.01 0.0159908802827949 10336.125 0.0001262657658597023\n",
            "0.01 0.019170231235031428 10256.5 0.00012634102142237278\n",
            "0.01 0.009485760900258322 10225.5 0.00012345020144940026\n",
            "0.01 0.009506677682838825 10202.25 0.00012222745876176011\n",
            "0.01 0.009820429421546378 10180.375 0.00012239138727495206\n",
            "0.1 0.02 bad fpr_tau\n",
            "0.2 0.02 bad fpr_tau\n",
            "0.30000000000000004 0.02 bad fpr_tau\n",
            "0.02 0.019086564104709415 8139.0 0.0001257855749779051\n",
            "0.02 0.02704539987659098 8093.875 0.00012495727756094545\n",
            "0.02 0.028927910308836294 8086.125 0.00012625200437233014\n",
            "0.02 0.03064308648043758 8092.625 0.00012703612738989051\n",
            "0.02 0.036844912515556855 8079.125 0.00012595857225891234\n",
            "0.02 0.03857054707844839 8080.25 0.00012559495880402392\n",
            "0.02 0.019860485060188043 8074.75 0.00012359058906708932\n",
            "0.001 0.0010458391290251734 17643.75 0.00012281985850263203\n",
            "0.001 0.0011713398245081941 17463.625 0.00012177602512472883\n",
            "0.001 0.000899421650961649 17360.375 0.00012101809356637429\n",
            "0.001 0.0013072989112814667 17322.75 0.00012200488621495607\n",
            "0.001 0.0008157545206396352 17267.375 0.00012154882219523768\n",
            "0.001 0.0010144639551544182 17187.75 0.00012160654613665187\n",
            "0.001 0.001098131085476432 17156.75 0.00012137294245737194\n",
            "0.001 0.0012654653461204597 17133.5 0.0001219162182513842\n",
            "0.001 0.0008785048683811456 17111.5 0.00012025731944675789\n",
            "0.005 0.005051402993191587 12266.875 0.00012169545846075327\n",
            "0.005 0.005176903688674608 12257.0 0.00012011801649060295\n",
            "0.005 0.004915443906418315 12247.75 0.00012188956549934203\n",
            "0.005 0.0049468190802890695 12221.5 0.00012107396485601869\n",
            "0.005 0.005354696340608887 12181.625 0.00012115094839671942\n",
            "0.005 0.005051402993191587 12123.625 0.0001197698426316211\n",
            "0.005 0.0050409446019013355 12137.875 0.00012070469869377885\n",
            "0.005 0.005888074296411726 12121.625 0.00011980333747849008\n",
            "0.005 0.005846240731250719 12250.125 0.0001220890160544081\n",
            "0.01 0.009747220682514615 10161.25 0.00012147225257135227\n",
            "0.01 0.010510683246702993 10095.125 0.00012236444278635933\n",
            "0.01 0.009914554943158644 10051.375 0.00012198448959116479\n",
            "0.01 0.010542058420573748 10163.625 0.00012156990452459651\n",
            "0.01 0.010238765073156447 10084.0 0.0001223292199614601\n",
            "0.01 0.010343348986058964 10118.25 0.00012174985361332133\n",
            "0.01 0.009705387117353609 10163.75 0.00012172324574382541\n",
            "0.01 0.009318426639614295 10269.875 0.00012008855608594599\n",
            "0.01 0.010385182551219972 10347.625 0.00011961780051275838\n",
            "0.02 0.02118870075405001 7964.875 0.0001217865226535994\n",
            "0.02 0.022234539883075187 7997.5 0.00012165180270411052\n",
            "0.02 0.02014286162502484 8077.25 0.00012049649853567075\n",
            "0.02 0.019452607799868224 8261.125 0.00011983970480831843\n",
            "0.02 0.024033383184998484 8396.875 0.00012080997818640909\n",
            "0.02 0.021303743058242782 8505.375 0.00011990382451257182\n",
            "0.02 0.02062394762437642 8600.25 0.00011961590796539193\n",
            "0.02 0.019097022495999667 8753.375 0.00011990058299534337\n",
            "0.02 0.018584561322777332 8867.0 0.00011908413955754065\n",
            "0.001 0.0009203384335421525 20524.625 0.00011956177462767693\n",
            "0.001 0.0017360929541817877 20447.75 0.00011930084246468643\n",
            "0.001 0.0011504230419276907 20340.375 0.00011975385696473529\n",
            "0.001 0.0008366713032201387 20156.75 0.00011959688275273576\n",
            "0.001 0.0010144639551544182 19925.0 0.00011986518812068356\n",
            "0.001 0.0009517136074129077 19677.125 0.00012090803408256949\n",
            "0.001 0.0011713398245081941 19427.5 0.0001205284848302911\n",
            "0.001 0.000941255216122656 19229.125 0.00012124072845004812\n",
            "0.001 0.003493102690944079 19151.25 0.00011972683268494924\n",
            "0.001 0.000899421650961649 19036.125 0.00012057998755210148\n",
            "0.005 0.006902538251566144 15080.25 0.0001263402858473094\n",
            "0.005 0.0072581235554347034 14191.375 0.00012523543464779295\n",
            "0.005 0.008607256031877177 13833.875 0.00013378245782386892\n",
            "0.005 0.0047062760806132805 13795.125 7.739026633475606e-05\n",
            "0.005 0.004633067341581518 13739.625 7.461335826414063e-05\n",
            "0.005 0.005417446688350398 13625.625 7.481372641792985e-05\n",
            "0.005 0.005051402993191587 13608.25 7.465179517804559e-05\n",
            "0.005 0.006254117991570537 13562.625 7.432821695440324e-05\n",
            "0.005 0.006254117991570537 13513.75 7.552830143661657e-05\n",
            "0.005 0.006651536860600103 13471.75 7.430163401965522e-05\n",
            "0.1 0.01 bad fpr_tau\n",
            "0.01 0.009297509857033792 11708.625 7.684553933841539e-05\n",
            "0.01 0.01285336289571938 11539.125 7.625116227203413e-05\n",
            "0.01 0.01671250928182227 11476.125 7.673823763772956e-05\n",
            "0.01 0.019536274930190237 11385.25 7.669831211937431e-05\n",
            "0.01 0.010029597247351413 11342.25 7.504387164767451e-05\n",
            "0.01 0.010855810159281299 11338.25 7.49300544973595e-05\n",
            "0.01 0.00995638850831965 11316.75 7.469611170550798e-05\n",
            "0.01 0.010081889203802671 11283.625 7.475516217551104e-05\n",
            "0.01 0.011211395463149858 11271.125 7.458315231052112e-05\n",
            "0.1 0.02 bad fpr_tau\n",
            "0.2 0.02 bad fpr_tau\n",
            "0.02 0.02129328466695253 9255.75 7.63862512557921e-05\n",
            "0.02 0.025319765313699446 9230.25 7.647026888887855e-05\n",
            "0.02 0.03147975778365772 9184.625 7.607433252027298e-05\n",
            "0.02 0.03295439095558321 9183.75 0.00011188182240156239\n",
            "0.02 0.038455504774255626 9198.375 0.0001225519845058231\n",
            "0.02 0.018929688235355638 9213.125 0.00012062723889939301\n",
            "0.02 0.02128282627566228 9318.625 0.00012099390436742574\n",
            "0.02 0.024158883880481503 9332.25 0.00012031664918593757\n",
            "0.001 0.0009726303899934112 18639.875 0.00011942062650017657\n",
            "0.001 0.0012340901722497045 18470.25 0.00011873110092924135\n",
            "0.001 0.0013491324764424736 18407.375 0.00011778958230244176\n",
            "0.001 0.000826212911929887 18316.5 0.00011810249593440251\n",
            "0.001 0.0010144639551544182 18273.375 0.00011810597682521091\n",
            "0.001 0.0011295062593471871 18269.375 0.00011895334184389818\n",
            "0.001 0.0010876726941861804 18247.875 0.00011844942056251402\n",
            "0.001 0.0008575880858006421 18214.875 0.00011896705844872408\n",
            "0.001 0.0011295062593471871 18202.25 0.00011844721633079868\n",
            "0.005 0.0056370729054456845 13357.625 0.00011921055374250035\n",
            "0.005 0.00440298273319598 13376.875 0.00011979049608331587\n",
            "0.005 0.004810859993515797 13505.25 0.00011892623278596923\n",
            "0.005 0.004957277471579322 13524.5 0.00011835029496566824\n",
            "0.005 0.004800401602225546 13623.625 0.0001182500896942379\n",
            "0.005 0.004967735862869574 13591.125 0.00011821962441924012\n",
            "0.005 0.007739209554786282 13548.5 0.0001194955628980738\n",
            "0.005 0.00675612077350262 13610.75 0.00011958392416424636\n",
            "0.005 0.004925902297708566 13646.875 0.00011911898337427161\n",
            "0.01 0.012382735287658053 11418.75 0.00012085400547079572\n",
            "0.01 0.009224301118002029 11537.125 0.00011935819487835676\n",
            "0.01 0.010615267159605509 11462.0 0.00012029747935174351\n",
            "0.01 0.01248731920056057 11560.375 0.00011862260485413057\n",
            "0.01 0.010353807377349216 11591.0 0.00011987555100191541\n",
            "0.01 0.013282156938619701 11707.625 0.0001183443031457452\n",
            "0.01 0.015290168066348035 11746.375 0.00011861066859030552\n",
            "0.01 0.011912107679596724 11734.5 0.00011916718972240815\n",
            "0.01 0.009224301118002029 11728.25 0.00011920052997384008\n",
            "0.02 0.02176391227501386 9375.5 0.00011995465648966338\n",
            "0.02 0.019755901147285523 9504.5 0.00011913740017907875\n",
            "0.02 0.024169342271771758 9659.875 0.00012052235836272934\n",
            "0.02 0.018093016932135497 9641.75 0.00012047770521617015\n",
            "0.02 0.019337565495675457 9688.375 0.0001197764877419394\n",
            "0.02 0.018208059236328268 9740.625 0.00011849190189253017\n",
            "0.02 0.017580555758913163 9779.0 0.00011845760664025324\n",
            "0.02 0.021397868579855046 9778.75 0.00012028789194117169\n",
            "0.02 0.017925682671491472 9826.5 0.00012046929721917453\n",
            "0.001 0.000899421650961649 20752.25 0.00011920321544619011\n",
            "0.001 0.0010667559116056768 20748.125 0.00011943248546628309\n",
            "0.001 0.0012027149983789493 20721.25 0.00011895631157237439\n",
            "0.001 0.001725634562891536 20705.25 0.00012152777726800071\n",
            "0.001 0.004246106863842204 20689.0 0.00011929801237079853\n",
            "0.001 0.001139964650637439 20645.125 0.00011971531283141431\n",
            "0.001 0.0008471296945103905 20628.25 0.00011998625130874153\n",
            "0.001 0.001453716389344991 20618.25 0.00011908798449566853\n",
            "0.001 0.0011504230419276907 20591.375 0.0001207047136546276\n",
            "0.001 0.0007216289990273696 20565.375 0.00012031928229531698\n",
            "0.005 0.004674900906742525 15844.25 0.00011948868838807471\n",
            "0.005 0.004925902297708566 15720.625 0.00012032082824968746\n",
            "0.005 0.00760325046801301 15705.125 0.00011936401963546879\n",
            "0.005 0.005417446688350398 15652.5 0.00012030765522236603\n",
            "0.005 0.0052082788625453635 15584.5 0.00012065343035859883\n",
            "0.005 0.005365154731899139 15605.125 0.00012006612229325037\n",
            "0.005 0.005344237949318636 15510.0 0.00012099496409421196\n",
            "0.005 0.004978194254159825 15430.75 0.00011967737959941717\n",
            "0.005 0.005417446688350398 15401.75 0.00012067012915927489\n",
            "0.005 0.0041101477770689315 15316.5 0.00012021410004820358\n",
            "0.01 0.010280598638317455 13634.125 0.0001215159706648648\n",
            "0.01 0.011776148592823452 13566.0 0.00012047507958721512\n",
            "0.01 0.010291057029607706 13518.625 0.00012129131357313538\n",
            "0.01 0.009172009161550771 13344.25 0.00012179545926725074\n",
            "0.01 0.010165556334124685 13230.0 0.00012094413211712038\n",
            "0.01 0.00971584550864386 13064.75 0.00012114812827673068\n",
            "0.01 0.008910549379294476 12873.375 0.00011974270614546946\n",
            "0.01 0.010050514029931916 12763.875 0.00012213965852741557\n",
            "0.01 0.01080351820283004 12698.0 0.00012050134585066467\n",
            "0.01 0.009328885030904547 12611.0 0.00012087499554158729\n",
            "0.02 0.019881401842768546 11479.5 0.00012313679909638044\n",
            "0.02 0.019693150799544014 11257.75 0.00012111968271631369\n",
            "0.02 0.020163778407605342 10978.25 0.00012271134247972292\n",
            "0.02 0.02256920840436324 10677.375 0.0001219004545037548\n",
            "0.02 0.018668228453099345 10524.5 0.0001206913885253439\n",
            "0.02 0.02045661336373239 10415.5 0.0001214636052007767\n",
            "0.02 0.021136408797598753 10384.0 0.00012230222809684634\n",
            "0.02 0.02117824236275976 10386.875 0.00012160033738442201\n",
            "0.02 0.02172207870985285 10310.125 0.00012165633085433117\n",
            "0.02 0.022956168882102557 10284.125 0.00012070751881376759\n",
            "0.001 0.0014850915632157462 20497.25 0.00011897716948900203\n",
            "0.001 0.0008471296945103905 20449.75 0.00011850539159115007\n",
            "0.001 0.001255006954830208 20275.5 0.00012003480674334882\n",
            "0.001 0.000899421650961649 20161.125 0.00012010464149182343\n",
            "0.001 0.0007739209554786283 19996.0 0.00011971888847426476\n",
            "0.001 0.0008680464770908938 19804.625 0.00011957366600895574\n",
            "0.001 0.0008157545206396352 19695.0 0.00012070978288887791\n",
            "0.001 0.0014850915632157462 19629.25 0.00012068339943211318\n",
            "0.001 0.0006484202599956074 19542.25 0.00011924698091572366\n",
            "0.005 0.005020027819320832 14697.5 0.0001202743698273795\n",
            "0.005 0.004601692167710763 14546.75 0.00012084658738329217\n",
            "0.005 0.004476191472227742 14457.125 0.00011814713661358776\n",
            "0.005 0.005396529905769895 14363.25 0.00012138045030996798\n",
            "0.005 0.004978194254159825 14451.625 0.00012019040705073845\n",
            "0.005 0.005061861384481839 14439.5 0.00012024541809157992\n",
            "0.005 0.007456832989949486 14292.375 0.00012009075782418654\n",
            "0.005 0.004643525732871769 14117.5 0.00011996602424123605\n",
            "0.005 0.005271029210286874 13969.75 0.00011972194796783346\n",
            "0.01 0.010144639551544182 12370.625 0.00011975975403261627\n",
            "0.01 0.009809971030256126 12365.125 0.00012100430215730467\n",
            "0.01 0.009757679073804867 12205.875 0.00012046344752731458\n",
            "0.01 0.009998222073480657 11883.25 8.79235167251865e-05\n",
            "0.01 0.010657100724766517 11782.125 0.00010572713369211939\n",
            "0.01 0.01636738236924396 11765.375 0.00012071067305937835\n",
            "0.01 0.01062572555089576 11761.75 0.00012084824305055346\n",
            "0.01 0.010029597247351413 11839.875 0.00012019439162345465\n",
            "0.01 0.009307968248324043 11925.125 0.00012094169848572426\n",
            "0.02 0.02111549201501825 10119.375 0.00012140370445586986\n",
            "0.02 0.022590125186943744 9695.625 0.00012026778954740576\n",
            "0.02 0.021858037796626123 9675.25 0.00011920175177648773\n",
            "0.02 0.019044730539548405 9838.625 0.00012110704827954714\n",
            "0.02 0.019076105713419163 9955.75 0.00012180029660834549\n",
            "0.02 0.018354476714391794 10027.25 0.00012093910277846672\n",
            "0.02 0.01949444136502923 10071.625 0.00011941549991600605\n",
            "0.02 0.020362487842120126 10093.25 0.00011986980104904712\n",
            "0.02 0.020592572450505664 10127.5 0.00011896891858091824\n"
          ],
          "name": "stdout"
        }
      ]
    },
    {
      "metadata": {
        "id": "vHnVBihNRELn",
        "colab_type": "code",
        "colab": {}
      },
      "cell_type": "code",
      "source": [
        "fnrs2 = {}\n",
        "for i in range(3):\n",
        "  fnrs2[i] = pd.DataFrame(index=fpr_ratios+fpr_ratios2, columns=fprs)\n",
        "  for fpr,fpr_ratio in false_negs[i].keys():\n",
        "      fnrs2[i].loc[fpr_ratio,fpr] = len(false_negs[i][(fpr,fpr_ratio)])/len(phishing_URLs)\n",
        "#   for fpr,fpr_ratio in false_negs2.keys():\n",
        "#       fnrs2[i].loc[fpr_ratio,fpr] = len(false_negs2[i][(fpr,fpr_ratio)])/len(phishing_URLs)"
      ],
      "execution_count": 0,
      "outputs": []
    },
    {
      "metadata": {
        "id": "D5GCjbHza7Fp",
        "colab_type": "code",
        "outputId": "92af692f-0cda-422a-c7c5-cf165aeb7d85",
        "colab": {
          "base_uri": "https://localhost:8080/",
          "height": 3957
        }
      },
      "cell_type": "code",
      "source": [
        "true_fpr_SLBF = {}\n",
        "sizes_SLBF = {}\n",
        "times_SLBF = {}\n",
        "for i in range(3):\n",
        "  true_fpr_SLBF[i] = pd.DataFrame(index = fpr_ratios+fpr_ratios2, columns = fprs)\n",
        "  sizes_SLBF[i] = pd.DataFrame(index = fpr_ratios+fpr_ratios2, columns = fprs)\n",
        "  times_SLBF[i] = pd.DataFrame(index = fpr_ratios+fpr_ratios2, columns = fprs)\n",
        "  for fpr,fpr_ratio in false_negs[i].keys():\n",
        "    try:\n",
        "      SLBF = np.load(loc+\"SLBF_hid\"+str(h_sizes[i])+\"_FPR\"+str(fpr)+\"_ratio\"+str(fpr_ratio)+\".npy\").item()\n",
        "      true_fpr_SLBF[i].loc[fpr_ratio,fpr] = SLBF['FPR']\n",
        "      sizes_SLBF[i].loc[fpr_ratio,fpr] = SLBF['size']\n",
        "      times_SLBF[i].loc[fpr_ratio,fpr] = SLBF['time']\n",
        "      print(SLBF['FPR'], SLBF['size'], SLBF['time'])\n",
        "    except:\n",
        "      print(\"error\", fpr_ratio, fpr)\n",
        "      continue\n",
        "\n",
        "# for fpr,fpr_ratio in false_negs2.keys():\n",
        "#   try:\n",
        "#     SLBF = np.load(loc+\"SLBF_hid\"+str(h_sizes[2])+\"_FPR\"+str(fpr)+\"_ratio\"+str(fpr_ratio)+\".npy\").item()\n",
        "#     true_fpr_SLBF.loc[fpr_ratio,fpr] = SLBF['FPR']\n",
        "#     sizes_SLBF.loc[fpr_ratio,fpr] = SLBF['size']\n",
        "#     times_SLBF.loc[fpr_ratio,fpr] = SLBF['time']\n",
        "#     print(SLBF['FPR'], SLBF['size'], SLBF['time'])\n",
        "#   except:\n",
        "#     print(\"error\")\n",
        "#     continue\n"
      ],
      "execution_count": 0,
      "outputs": [
        {
          "output_type": "stream",
          "text": [
            "0.000899421650961649 29101.0 0.0001211437472415227\n",
            "0.0009517136074129077 28644.375 0.00012171300753633311\n",
            "0.0011608814332179423 28425.875 0.00012117670848478637\n",
            "0.0011295062593471871 28331.125 0.00012018103158552388\n",
            "0.0008157545206396352 27971.125 0.00012046508823372713\n",
            "0.0006902538251566144 27867.625 0.0001215954601477306\n",
            "0.0009726303899934112 27709.5 0.00012045212964523773\n",
            "0.00132821569386197 27399.375 0.0001224477797008278\n",
            "0.000941255216122656 27253.25 0.00012103759503271556\n",
            "0.0010144639551544182 27101.75 0.00012059039282240478\n",
            "error 0.1 0.005\n",
            "0.0064005354696340605 22257.0 0.00012472427979603977\n",
            "0.006745662382212368 21932.625 0.00012849049892477602\n",
            "0.007822876685108296 21465.0 0.00012490547063521057\n",
            "0.009046508466067749 21372.625 0.00012589022112793842\n",
            "0.004957277471579322 21285.0 0.00012379065301695405\n",
            "0.004769026428354791 21143.125 0.00012378938134481056\n",
            "0.005271029210286874 21181.625 0.00012214922349671424\n",
            "0.005365154731899139 21149.5 0.00012593164522464313\n",
            "0.005678906470606692 21144.0 0.00012258309808426657\n",
            "error 0.1 0.01\n",
            "error 0.2 0.01\n",
            "0.009757679073804867 19198.5 0.00012610418370628877\n",
            "0.01291611324346089 19095.125 0.00012613168423975993\n",
            "0.015060083457962496 19057.5 0.0001283173645026553\n",
            "0.0159908802827949 19002.125 0.0001262657658597023\n",
            "0.019170231235031428 18922.5 0.00012634102142237278\n",
            "0.009485760900258322 18891.5 0.00012345020144940026\n",
            "0.009506677682838825 18868.25 0.00012222745876176011\n",
            "0.009820429421546378 18846.375 0.00012239138727495206\n",
            "error 0.1 0.02\n",
            "error 0.2 0.02\n",
            "error 0.30000000000000004 0.02\n",
            "0.019086564104709415 16805.0 0.0001257855749779051\n",
            "0.02704539987659098 16759.875 0.00012495727756094545\n",
            "0.028927910308836294 16752.125 0.00012625200437233014\n",
            "0.03064308648043758 16758.625 0.00012703612738989051\n",
            "0.036844912515556855 16745.125 0.00012595857225891234\n",
            "0.03857054707844839 16746.25 0.00012559495880402392\n",
            "0.019860485060188043 16740.75 0.00012359058906708932\n",
            "0.0010458391290251734 26309.75 0.00012281985850263203\n",
            "0.0011713398245081941 26129.625 0.00012177602512472883\n",
            "0.000899421650961649 26026.375 0.00012101809356637429\n",
            "0.0013072989112814667 25988.75 0.00012200488621495607\n",
            "0.0008157545206396352 25933.375 0.00012154882219523768\n",
            "0.0010144639551544182 25853.75 0.00012160654613665187\n",
            "0.001098131085476432 25822.75 0.00012137294245737194\n",
            "0.0012654653461204597 25799.5 0.0001219162182513842\n",
            "0.0008785048683811456 25777.5 0.00012025731944675789\n",
            "0.005051402993191587 20932.875 0.00012169545846075327\n",
            "0.005176903688674608 20923.0 0.00012011801649060295\n",
            "0.004915443906418315 20913.75 0.00012188956549934203\n",
            "0.0049468190802890695 20887.5 0.00012107396485601869\n",
            "0.005354696340608887 20847.625 0.00012115094839671942\n",
            "0.005051402993191587 20789.625 0.0001197698426316211\n",
            "0.0050409446019013355 20803.875 0.00012070469869377885\n",
            "0.005888074296411726 20787.625 0.00011980333747849008\n",
            "0.005846240731250719 20916.125 0.0001220890160544081\n",
            "0.009747220682514615 18827.25 0.00012147225257135227\n",
            "0.010510683246702993 18761.125 0.00012236444278635933\n",
            "0.009914554943158644 18717.375 0.00012198448959116479\n",
            "0.010542058420573748 18829.625 0.00012156990452459651\n",
            "0.010238765073156447 18750.0 0.0001223292199614601\n",
            "0.010343348986058964 18784.25 0.00012174985361332133\n",
            "0.009705387117353609 18829.75 0.00012172324574382541\n",
            "0.009318426639614295 18935.875 0.00012008855608594599\n",
            "0.010385182551219972 19013.625 0.00011961780051275838\n",
            "0.02118870075405001 16630.875 0.0001217865226535994\n",
            "0.022234539883075187 16663.5 0.00012165180270411052\n",
            "0.02014286162502484 16743.25 0.00012049649853567075\n",
            "0.019452607799868224 16927.125 0.00011983970480831843\n",
            "0.024033383184998484 17062.875 0.00012080997818640909\n",
            "0.021303743058242782 17171.375 0.00011990382451257182\n",
            "0.02062394762437642 17266.25 0.00011961590796539193\n",
            "0.019097022495999667 17419.375 0.00011990058299534337\n",
            "0.018584561322777332 17533.0 0.00011908413955754065\n",
            "0.0009203384335421525 26148.625 0.00011956177462767693\n",
            "0.0017360929541817877 26071.75 0.00011930084246468643\n",
            "0.0011504230419276907 25964.375 0.00011975385696473529\n",
            "0.0008366713032201387 25780.75 0.00011959688275273576\n",
            "0.0010144639551544182 25549.0 0.00011986518812068356\n",
            "0.0009517136074129077 25301.125 0.00012090803408256949\n",
            "0.0011713398245081941 25051.5 0.0001205284848302911\n",
            "0.000941255216122656 24853.125 0.00012124072845004812\n",
            "0.003493102690944079 24775.25 0.00011972683268494924\n",
            "0.000899421650961649 24660.125 0.00012057998755210148\n",
            "0.006902538251566144 20704.25 0.0001263402858473094\n",
            "0.0072581235554347034 19815.375 0.00012523543464779295\n",
            "0.008607256031877177 19457.875 0.00013378245782386892\n",
            "0.0047062760806132805 19419.125 7.739026633475606e-05\n",
            "0.004633067341581518 19363.625 7.461335826414063e-05\n",
            "0.005417446688350398 19249.625 7.481372641792985e-05\n",
            "0.005051402993191587 19232.25 7.465179517804559e-05\n",
            "0.006254117991570537 19186.625 7.432821695440324e-05\n",
            "0.006254117991570537 19137.75 7.552830143661657e-05\n",
            "0.006651536860600103 19095.75 7.430163401965522e-05\n",
            "error 0.1 0.01\n",
            "0.009297509857033792 17332.625 7.684553933841539e-05\n",
            "0.01285336289571938 17163.125 7.625116227203413e-05\n",
            "0.01671250928182227 17100.125 7.673823763772956e-05\n",
            "0.019536274930190237 17009.25 7.669831211937431e-05\n",
            "0.010029597247351413 16966.25 7.504387164767451e-05\n",
            "0.010855810159281299 16962.25 7.49300544973595e-05\n",
            "0.00995638850831965 16940.75 7.469611170550798e-05\n",
            "0.010081889203802671 16907.625 7.475516217551104e-05\n",
            "0.011211395463149858 16895.125 7.458315231052112e-05\n",
            "error 0.1 0.02\n",
            "error 0.2 0.02\n",
            "0.02129328466695253 14879.75 7.63862512557921e-05\n",
            "0.025319765313699446 14854.25 7.647026888887855e-05\n",
            "0.03147975778365772 14808.625 7.607433252027298e-05\n",
            "0.03295439095558321 14807.75 0.00011188182240156239\n",
            "0.038455504774255626 14822.375 0.0001225519845058231\n",
            "0.018929688235355638 14837.125 0.00012062723889939301\n",
            "0.02128282627566228 14942.625 0.00012099390436742574\n",
            "0.024158883880481503 14956.25 0.00012031664918593757\n",
            "0.0009726303899934112 24263.875 0.00011942062650017657\n",
            "0.0012340901722497045 24094.25 0.00011873110092924135\n",
            "0.0013491324764424736 24031.375 0.00011778958230244176\n",
            "0.000826212911929887 23940.5 0.00011810249593440251\n",
            "0.0010144639551544182 23897.375 0.00011810597682521091\n",
            "0.0011295062593471871 23893.375 0.00011895334184389818\n",
            "0.0010876726941861804 23871.875 0.00011844942056251402\n",
            "0.0008575880858006421 23838.875 0.00011896705844872408\n",
            "0.0011295062593471871 23826.25 0.00011844721633079868\n",
            "0.0056370729054456845 18981.625 0.00011921055374250035\n",
            "0.00440298273319598 19000.875 0.00011979049608331587\n",
            "0.004810859993515797 19129.25 0.00011892623278596923\n",
            "0.004957277471579322 19148.5 0.00011835029496566824\n",
            "0.004800401602225546 19247.625 0.0001182500896942379\n",
            "0.004967735862869574 19215.125 0.00011821962441924012\n",
            "0.007739209554786282 19172.5 0.0001194955628980738\n",
            "0.00675612077350262 19234.75 0.00011958392416424636\n",
            "0.004925902297708566 19270.875 0.00011911898337427161\n",
            "0.012382735287658053 17042.75 0.00012085400547079572\n",
            "0.009224301118002029 17161.125 0.00011935819487835676\n",
            "0.010615267159605509 17086.0 0.00012029747935174351\n",
            "0.01248731920056057 17184.375 0.00011862260485413057\n",
            "0.010353807377349216 17215.0 0.00011987555100191541\n",
            "0.013282156938619701 17331.625 0.0001183443031457452\n",
            "0.015290168066348035 17370.375 0.00011861066859030552\n",
            "0.011912107679596724 17358.5 0.00011916718972240815\n",
            "0.009224301118002029 17352.25 0.00011920052997384008\n",
            "0.02176391227501386 14999.5 0.00011995465648966338\n",
            "0.019755901147285523 15128.5 0.00011913740017907875\n",
            "0.024169342271771758 15283.875 0.00012052235836272934\n",
            "0.018093016932135497 15265.75 0.00012047770521617015\n",
            "0.019337565495675457 15312.375 0.0001197764877419394\n",
            "0.018208059236328268 15364.625 0.00011849190189253017\n",
            "0.017580555758913163 15403.0 0.00011845760664025324\n",
            "0.021397868579855046 15402.75 0.00012028789194117169\n",
            "0.017925682671491472 15450.5 0.00012046929721917453\n",
            "0.000899421650961649 25428.25 0.00011920321544619011\n",
            "0.0010667559116056768 25424.125 0.00011943248546628309\n",
            "0.0012027149983789493 25397.25 0.00011895631157237439\n",
            "0.001725634562891536 25381.25 0.00012152777726800071\n",
            "0.004246106863842204 25365.0 0.00011929801237079853\n",
            "0.001139964650637439 25321.125 0.00011971531283141431\n",
            "0.0008471296945103905 25304.25 0.00011998625130874153\n",
            "0.001453716389344991 25294.25 0.00011908798449566853\n",
            "0.0011504230419276907 25267.375 0.0001207047136546276\n",
            "0.0007216289990273696 25241.375 0.00012031928229531698\n",
            "0.004674900906742525 20520.25 0.00011948868838807471\n",
            "0.004925902297708566 20396.625 0.00012032082824968746\n",
            "0.00760325046801301 20381.125 0.00011936401963546879\n",
            "0.005417446688350398 20328.5 0.00012030765522236603\n",
            "0.0052082788625453635 20260.5 0.00012065343035859883\n",
            "0.005365154731899139 20281.125 0.00012006612229325037\n",
            "0.005344237949318636 20186.0 0.00012099496409421196\n",
            "0.004978194254159825 20106.75 0.00011967737959941717\n",
            "0.005417446688350398 20077.75 0.00012067012915927489\n",
            "0.0041101477770689315 19992.5 0.00012021410004820358\n",
            "0.010280598638317455 18310.125 0.0001215159706648648\n",
            "0.011776148592823452 18242.0 0.00012047507958721512\n",
            "0.010291057029607706 18194.625 0.00012129131357313538\n",
            "0.009172009161550771 18020.25 0.00012179545926725074\n",
            "0.010165556334124685 17906.0 0.00012094413211712038\n",
            "0.00971584550864386 17740.75 0.00012114812827673068\n",
            "0.008910549379294476 17549.375 0.00011974270614546946\n",
            "0.010050514029931916 17439.875 0.00012213965852741557\n",
            "0.01080351820283004 17374.0 0.00012050134585066467\n",
            "0.009328885030904547 17287.0 0.00012087499554158729\n",
            "0.019881401842768546 16155.5 0.00012313679909638044\n",
            "0.019693150799544014 15933.75 0.00012111968271631369\n",
            "0.020163778407605342 15654.25 0.00012271134247972292\n",
            "0.02256920840436324 15353.375 0.0001219004545037548\n",
            "0.018668228453099345 15200.5 0.0001206913885253439\n",
            "0.02045661336373239 15091.5 0.0001214636052007767\n",
            "0.021136408797598753 15060.0 0.00012230222809684634\n",
            "0.02117824236275976 15062.875 0.00012160033738442201\n",
            "0.02172207870985285 14986.125 0.00012165633085433117\n",
            "0.022956168882102557 14960.125 0.00012070751881376759\n",
            "0.0014850915632157462 25173.25 0.00011897716948900203\n",
            "0.0008471296945103905 25125.75 0.00011850539159115007\n",
            "0.001255006954830208 24951.5 0.00012003480674334882\n",
            "0.000899421650961649 24837.125 0.00012010464149182343\n",
            "0.0007739209554786283 24672.0 0.00011971888847426476\n",
            "0.0008680464770908938 24480.625 0.00011957366600895574\n",
            "0.0008157545206396352 24371.0 0.00012070978288887791\n",
            "0.0014850915632157462 24305.25 0.00012068339943211318\n",
            "0.0006484202599956074 24218.25 0.00011924698091572366\n",
            "0.005020027819320832 19373.5 0.0001202743698273795\n",
            "0.004601692167710763 19222.75 0.00012084658738329217\n",
            "0.004476191472227742 19133.125 0.00011814713661358776\n",
            "0.005396529905769895 19039.25 0.00012138045030996798\n",
            "0.004978194254159825 19127.625 0.00012019040705073845\n",
            "0.005061861384481839 19115.5 0.00012024541809157992\n",
            "0.007456832989949486 18968.375 0.00012009075782418654\n",
            "0.004643525732871769 18793.5 0.00011996602424123605\n",
            "0.005271029210286874 18645.75 0.00011972194796783346\n",
            "0.010144639551544182 17046.625 0.00011975975403261627\n",
            "0.009809971030256126 17041.125 0.00012100430215730467\n",
            "0.009757679073804867 16881.875 0.00012046344752731458\n",
            "0.009998222073480657 16559.25 8.79235167251865e-05\n",
            "0.010657100724766517 16458.125 0.00010572713369211939\n",
            "0.01636738236924396 16441.375 0.00012071067305937835\n",
            "0.01062572555089576 16437.75 0.00012084824305055346\n",
            "0.010029597247351413 16515.875 0.00012019439162345465\n",
            "0.009307968248324043 16601.125 0.00012094169848572426\n",
            "0.02111549201501825 14795.375 0.00012140370445586986\n",
            "0.022590125186943744 14371.625 0.00012026778954740576\n",
            "0.021858037796626123 14351.25 0.00011920175177648773\n",
            "0.019044730539548405 14514.625 0.00012110704827954714\n",
            "0.019076105713419163 14631.75 0.00012180029660834549\n",
            "0.018354476714391794 14703.25 0.00012093910277846672\n",
            "0.01949444136502923 14747.625 0.00011941549991600605\n",
            "0.020362487842120126 14769.25 0.00011986980104904712\n",
            "0.020592572450505664 14803.5 0.00011896891858091824\n"
          ],
          "name": "stdout"
        }
      ]
    },
    {
      "metadata": {
        "id": "BzobK5D4_2zU",
        "colab_type": "code",
        "outputId": "a5705ec2-ec91-4ce8-8a0c-7f23c72c087c",
        "colab": {
          "base_uri": "https://localhost:8080/",
          "height": 221
        }
      },
      "cell_type": "code",
      "source": [
        "f,ax = plt.subplots(1,3,figsize=(12,3))\n",
        "for i in range(3):\n",
        "  fnrs2[i].plot(ax=ax[i])\n",
        "  ax[i].legend(fontsize='xx-small')\n",
        "  ax[i].set_xlabel(\"Classifier FPR ratio\")\n",
        "  ax[i].set_ylabel(\"Classifier False Negative Rate\")\n",
        "  ax[i].set_title(\"SLBF with \"+str(h_sizes[i])+\" dimensional GRU\")\n",
        "plt.tight_layout()\n",
        "plt.show()\n",
        "f.savefig(plot_loc+\"SLBF_classifier_FNR.png\")\n",
        "\n",
        "# FPR_tau/FPR forced to stay between 0 and 1, "
      ],
      "execution_count": 0,
      "outputs": [
        {
          "output_type": "display_data",
          "data": {
            "image/png": "[encoded data removed]",
            "text/plain": [
              "<matplotlib.figure.Figure at 0x7fb3d1b71358>"
            ]
          },
          "metadata": {
            "tags": []
          }
        }
      ]
    },
    {
      "metadata": {
        "id": "QNiur-d0a7js",
        "colab_type": "code",
        "outputId": "1d3268d1-7cf8-4a4a-96c1-e778efa99ff8",
        "colab": {
          "base_uri": "https://localhost:8080/",
          "height": 221
        }
      },
      "cell_type": "code",
      "source": [
        "f,ax=plt.subplots(1,3,figsize=(12,3))\n",
        "for i in range(3):\n",
        "  true_fpr_SLBF[i].plot(ax=ax[i])\n",
        "  ax[i].legend(fontsize='xx-small')\n",
        "  ax[i].set_xlabel(\"Classifier FPR ratio\")\n",
        "  ax[i].set_ylabel(\"Overall FPR\")\n",
        "  ax[i].set_title(\"SLBF with \"+str(h_sizes[i])+\" dimensional GRU\")\n",
        "plt.tight_layout()\n",
        "plt.show()\n",
        "f.savefig(plot_loc+\"SLBF_fpr.png\")\n"
      ],
      "execution_count": 0,
      "outputs": [
        {
          "output_type": "display_data",
          "data": {
            "image/png": "[encoded data removed]",
            "text/plain": [
              "<matplotlib.figure.Figure at 0x7fb3d4e149e8>"
            ]
          },
          "metadata": {
            "tags": []
          }
        }
      ]
    },
    {
      "metadata": {
        "id": "_pNg7Rysbh5c",
        "colab_type": "code",
        "outputId": "6ba0c581-fdc2-4ae2-970d-29c42e5e852f",
        "colab": {
          "base_uri": "https://localhost:8080/",
          "height": 221
        }
      },
      "cell_type": "code",
      "source": [
        "f, ax = plt.subplots(1,3,figsize=(12,3))\n",
        "for i in range(3):\n",
        "  sizes_SLBF[i].plot(ax=ax[i])\n",
        "  ax[i].legend(fontsize='xx-small')\n",
        "  ax[i].set_xlabel(\"Classifier FPR ratio\")\n",
        "  ax[i].set_ylabel(\"Total Size of SLBF\")\n",
        "  ax[i].set_title(\"SLBF with \"+str(h_sizes[i])+\" dimensional GRU\")\n",
        "plt.tight_layout()\n",
        "plt.show()\n",
        "f.savefig(plot_loc+\"SLBF_size.png\")\n",
        "\n",
        "\n",
        "#size is best when ratio = 1"
      ],
      "execution_count": 0,
      "outputs": [
        {
          "output_type": "display_data",
          "data": {
            "image/png": "[encoded data removed]",
            "text/plain": [
              "<matplotlib.figure.Figure at 0x7fb3beb6d2e8>"
            ]
          },
          "metadata": {
            "tags": []
          }
        }
      ]
    },
    {
      "metadata": {
        "id": "GpK6Q5xbh87k",
        "colab_type": "code",
        "outputId": "2f16fd8c-0616-45fc-f5f5-4175ab1aac15",
        "colab": {
          "base_uri": "https://localhost:8080/",
          "height": 2091
        }
      },
      "cell_type": "code",
      "source": [
        "true_fpr_LBF_LH = {}\n",
        "sizes_LBF_LH = {}\n",
        "times_LBF_LH = {}\n",
        "for i in range(3):\n",
        "  true_fpr_LBF_LH[i] = pd.DataFrame(index = fpr_ratios, columns = fprs)\n",
        "  sizes_LBF_LH[i] = pd.DataFrame(index = fpr_ratios, columns = fprs)\n",
        "  times_LBF_LH[i] = pd.DataFrame(index = fpr_ratios, columns = fprs)\n",
        "  for fpr in fprs:\n",
        "    for fpr_ratio in fpr_ratios:\n",
        "      try:\n",
        "        LBF = np.load(loc+\"LBF_LH_hid\"+str(h_sizes[i])+\"_FPR\"+str(fpr)+\"_ratio\"+str(fpr_ratio)+\".npy\").item()\n",
        "        true_fpr_LBF_LH[i].loc[fpr_ratio,fpr] = LBF['FPR']\n",
        "        sizes_LBF_LH[i].loc[fpr_ratio,fpr] = LBF['size']\n",
        "        times_LBF_LH[i].loc[fpr_ratio,fpr] = LBF['time']\n",
        "        print(LBF['FPR'], LBF['size'], LBF['time'])\n",
        "      except:\n",
        "        print(\"error\")\n",
        "        continue\n"
      ],
      "execution_count": 0,
      "outputs": [
        {
          "output_type": "stream",
          "text": [
            "0.0008471296945103905 29227.125 0.00018751961480973137\n",
            "0.0008785048683811456 28893.25 0.00017938101033706527\n",
            "0.0009307968248324043 28888.0 0.00018085342465553925\n",
            "0.000983088781283663 29096.875 0.0001802961779222724\n",
            "0.0012654653461204597 29009.5 0.0001873715472896857\n",
            "0.0010353807377349216 29368.375 0.00017225916259954572\n",
            "0.001181798215798446 29804.375 0.00017515984177184226\n",
            "0.001223631780959453 30282.5 0.00017237103234604885\n",
            "0.0012759237374107115 31696.625 0.00017248796135290316\n",
            "error\n",
            "0.004821318384806049 23128.25 0.0002500192935304915\n",
            "0.0075405001202715 22260.125 0.00027647503862289523\n",
            "0.005574322557704174 21984.75 0.00024390178003670917\n",
            "0.0060658669483460055 21594.25 0.00023441680639625968\n",
            "0.005835782339960467 21679.625 0.00022540501447996958\n",
            "0.008209837162847611 21859.625 0.000244228026278378\n",
            "0.005689364861896943 22095.875 0.00020147078080922707\n",
            "0.006003116600604495 22807.125 0.00019419222566151062\n",
            "0.005699823253187195 23990.625 0.00018261786227417406\n",
            "error\n",
            "0.010427016116380979 20263.25 0.0003463951836221582\n",
            "0.01128460420218162 19410.625 0.00033656319558850477\n",
            "0.014673122980223182 19198.75 0.00035679554676707126\n",
            "0.011650647897340431 19137.0 0.00030758254545524915\n",
            "0.01272786220023636 19219.125 0.00029588710142553105\n",
            "0.011033602811215579 19367.875 0.00026224980234173465\n",
            "0.011901649288306473 19604.125 0.0002424240870321024\n",
            "0.011242770637020614 20109.875 0.00021623722828727283\n",
            "0.010845351767991047 21129.375 0.0001944842315073479\n",
            "error\n",
            "0.02787161278852087 17605.375 0.0006279314449608762\n",
            "0.024211175836932764 17127.875 0.0005255642012259582\n",
            "0.02582176809563153 16937.0 0.0004976314538214648\n",
            "0.023991549619837477 16806.125 0.00047666585648497575\n",
            "0.024054299967578987 16807.375 0.00043073968133202587\n",
            "0.023541838794356652 16928.5 0.0003744161825799333\n",
            "0.02311304475145633 17177.0 0.000334185565142715\n",
            "0.022339123795977703 17585.0 0.0002858288554893323\n",
            "0.021460618927596556 18450.0 0.00023681673598710637\n",
            "error\n",
            "0.0009307968248324043 26300.125 0.00018308826876089094\n",
            "0.001213173389669201 26470.875 0.0001854185830290446\n",
            "0.0010458391290251734 26643.625 0.00018068140481665015\n",
            "0.0009098800422519008 26753.5 0.0001765450692507703\n",
            "0.000941255216122656 26857.375 0.00017906628145545657\n",
            "0.0009203384335421525 27030.625 0.00017401458880028547\n",
            "0.0010040055638641664 27351.125 0.00017396394134032843\n",
            "0.0009935471725739146 28033.75 0.00017291661959119246\n",
            "0.000941255216122656 29637.0 0.00017042250397706116\n",
            "error\n",
            "0.004423899515776483 20718.875 0.00025184963119438057\n",
            "0.005427905079640649 19847.25 0.00025626851984316464\n",
            "0.00603449177447525 19570.75 0.00024832270585439754\n",
            "0.004727192863193784 19712.625 0.00022467269838814412\n",
            "0.005072319775772091 19913.75 0.00022440916802442127\n",
            "0.004904985515128063 20133.125 0.000206809233039275\n",
            "0.005020027819320832 20628.0 0.00019817878069016328\n",
            "0.004664442515452273 21343.875 0.0001835708932740842\n",
            "0.004894527123837812 22683.875 0.00018005497911877875\n",
            "error\n",
            "0.00995638850831965 17757.875 0.00034641132388448106\n",
            "0.011190478680569355 17333.0 0.00037183263599894405\n",
            "0.01236181850507755 17206.875 0.00032548653226294855\n",
            "0.01098131085476432 17264.0 0.000289662548045916\n",
            "0.011064977985086334 17360.125 0.0002799659831216425\n",
            "0.010834893376700796 17604.375 0.000258582150271491\n",
            "0.010552516811864 18038.375 0.00024352628517444112\n",
            "0.010657100724766517 18690.625 0.00020921450115964944\n",
            "0.010887185333152055 19903.75 0.00019387728732801946\n",
            "error\n",
            "0.025079222314023656 15365.625 0.0005756939036099839\n",
            "0.02394971605467647 15030.625 0.0005070522853163877\n",
            "0.024106591924030245 14883.25 0.00045653978468243074\n",
            "0.02221362310049468 14918.5 0.0004005449483490796\n",
            "0.02197308010081889 15004.0 0.0003675193684488366\n",
            "0.022224081491784932 15229.75 0.0003475539412531837\n",
            "0.022109039187592164 15604.375 0.00030044305638358244\n",
            "0.02270516749113651 16203.125 0.0002726000640976699\n",
            "0.018344018323101542 17497.375 0.00020560543327962294\n",
            "error\n",
            "0.0010144639551544182 25686.0 0.00017996575760380326\n",
            "0.0011190478680569355 26008.875 0.00017949719130148226\n",
            "0.0008366713032201387 26332.5 0.00017828201630983313\n",
            "0.0007111706077371179 26737.75 0.00017251569627300468\n",
            "0.0008575880858006421 27224.25 0.00017338622317902657\n",
            "0.0008366713032201387 27765.875 0.0001726653596169167\n",
            "0.0010040055638641664 28553.5 0.00017107986372319107\n",
            "0.0007948377380591318 29700.25 0.00016548668060195815\n",
            "0.0010144639551544182 31640.875 0.00016549575934367256\n",
            "error\n",
            "0.004695817689323028 20705.75 0.00023292701255849167\n",
            "0.005051402993191587 20783.625 0.00023174092145680607\n",
            "0.004653984124162022 21079.125 0.0002147022801145126\n",
            "0.004999111036740328 21367.875 0.00021227149377312592\n",
            "0.005072319775772091 21700.375 0.0002060326677438065\n",
            "0.0054697386448016565 22315.5 0.00020415392425379762\n",
            "0.004863151949967056 22867.25 0.0001883184418481349\n",
            "0.00500956942803058 23758.25 0.00018170267224769382\n",
            "0.005124611732223349 25530.5 0.0001758431934991947\n",
            "error\n",
            "0.013146197851846429 18417.5 0.00033214215257750115\n",
            "0.010834893376700796 18548.5 0.00030023715770270654\n",
            "0.011242770637020614 18757.875 0.00028039190103113637\n",
            "0.010134181160253929 18805.75 0.00025782434338687604\n",
            "0.01001913885606116 19012.25 0.0002413193355715776\n",
            "0.010887185333152055 19219.25 0.00023623815009657723\n",
            "0.010573433594444502 19516.25 0.00021847546102486562\n",
            "0.010374724159929719 20221.375 0.00020043629048136614\n",
            "0.009987763682190405 21685.75 0.000182152113598367\n",
            "error\n",
            "0.021073658449857244 16217.625 0.0004567650975580302\n",
            "0.024096133532739993 16094.75 0.00043348465547099154\n",
            "0.01967223401696351 15915.875 0.0003565838208356085\n",
            "0.023437254881454133 15733.625 0.0003748903641874839\n",
            "0.02159657801436983 15797.875 0.0003228882093503472\n",
            "0.024273926184674274 16001.0 0.00032678308180440557\n",
            "0.02232866540468745 16456.375 0.0002705431244317144\n",
            "0.021094575232437747 17227.375 0.0002341393524693033\n",
            "0.021335118232113537 18466.125 0.0002014929328392713\n",
            "error\n"
          ],
          "name": "stdout"
        }
      ]
    },
    {
      "metadata": {
        "id": "n-iz_0jFgLjh",
        "colab_type": "code",
        "colab": {}
      },
      "cell_type": "code",
      "source": [
        "x_BF = []\n",
        "y_BF = []\n",
        "for b in BF_sizes.keys():\n",
        "  x_BF += [b]\n",
        "  y_BF += [BF_sizes[b]]"
      ],
      "execution_count": 0,
      "outputs": []
    },
    {
      "metadata": {
        "id": "yzcEpD4rsuoh",
        "colab_type": "code",
        "outputId": "4c0f389c-e418-4f9a-bd72-03f2041e3c07",
        "colab": {
          "base_uri": "https://localhost:8080/",
          "height": 221
        }
      },
      "cell_type": "code",
      "source": [
        "f,ax = plt.subplots(1,3,figsize=(12,3))\n",
        "for i in range(3):\n",
        "  x_LBF = []\n",
        "  y_LBF = []\n",
        "  z_LBF = []\n",
        "  x_SLBF = []\n",
        "  y_SLBF = []\n",
        "  z_SLBF = []\n",
        "  for j1 in range(true_fpr_LBF[i].shape[1]):\n",
        "    for j0 in range(true_fpr_LBF[i].shape[0]):\n",
        "      x_LBF += [true_fpr_LBF[i].iloc[j0,j1]]\n",
        "      y_LBF += [sizes_LBF[i].iloc[j0,j1]]\n",
        "    z_LBF += [min(sizes_LBF[i].iloc[:,j1])]\n",
        "  \n",
        "  for j1 in range(true_fpr_SLBF[i].shape[1]):\n",
        "    for j0 in range(true_fpr_SLBF[i].shape[0]):\n",
        "      if(true_fpr_SLBF[i].index[j0] >= 1.):\n",
        "        x_SLBF += [true_fpr_SLBF[i].iloc[j0,j1]]\n",
        "        y_SLBF += [sizes_SLBF[i].iloc[j0,j1]]\n",
        "    z_SLBF += [min(sizes_SLBF[i].dropna().iloc[:,j1])]\n",
        "  ax[i].scatter(x_LBF,y_LBF, label = 'LBF', marker='.')\n",
        "  ax[i].scatter(x_SLBF,y_SLBF, label = 'SLBF', marker='.')\n",
        "  ax[i].plot(true_fpr_LBF[i].columns,z_LBF)\n",
        "  ax[i].plot(true_fpr_SLBF[i].columns,z_SLBF)\n",
        "  ax[i].set_title(str(h_sizes[i])+\" dimensional GRU\")\n",
        "  ax[i].set_xlabel(\"Observed FPR\")\n",
        "  ax[i].set_ylabel(\"Total Size (bytes)\")\n",
        "  ax[i].set_xlim(left=0, right=0.03)\n",
        "  ax[i].legend(fontsize='xx-small')\n",
        "plt.tight_layout()\n",
        "plt.show()\n",
        "f.savefig(plot_loc+\"comparison_size_min.png\")"
      ],
      "execution_count": 0,
      "outputs": [
        {
          "output_type": "display_data",
          "data": {
            "image/png": "[encoded data removed]",
            "text/plain": [
              "<matplotlib.figure.Figure at 0x7fb3d49285f8>"
            ]
          },
          "metadata": {
            "tags": []
          }
        }
      ]
    },
    {
      "metadata": {
        "id": "T5KdJV1-uFr6",
        "colab_type": "code",
        "colab": {}
      },
      "cell_type": "code",
      "source": [
        ""
      ],
      "execution_count": 0,
      "outputs": []
    }
  ]
}